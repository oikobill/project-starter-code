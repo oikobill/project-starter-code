{
 "cells": [
  {
   "cell_type": "code",
   "execution_count": 1,
   "metadata": {
    "collapsed": false
   },
   "outputs": [],
   "source": [
    "import sys\n",
    "sys.path.append('..')\n",
    "sys.path.append('../..')\n",
    "import os\n",
    "from utils import *\n",
    "from student_utils_sp18 import *\n",
    "from networkx.algorithms.traversal import *\n",
    "from networkx.algorithms.approximation import *\n",
    "from vasilis_solver import *\n",
    "from tqdm import tqdm\n",
    "import matplotlib.pyplot as plt\n",
    "import re\n",
    "%matplotlib inline"
   ]
  },
  {
   "cell_type": "code",
   "execution_count": 2,
   "metadata": {
    "collapsed": false
   },
   "outputs": [],
   "source": [
    "indirectory = \"inputs/\"\n",
    "input_files = os.listdir(indirectory)"
   ]
  },
  {
   "cell_type": "code",
   "execution_count": 3,
   "metadata": {
    "collapsed": true
   },
   "outputs": [],
   "source": [
    "def draw_graph(G):\n",
    "    pos = nx.spring_layout(G)\n",
    "    labels = nx.get_edge_attributes(G,'weight')\n",
    "    plt.figure(3,figsize=(8,8)) \n",
    "    nx.draw_networkx_edge_labels(G,pos,edge_labels=labels)\n",
    "    nx.draw(G, pos, with_labels=True)"
   ]
  },
  {
   "cell_type": "code",
   "execution_count": 4,
   "metadata": {
    "collapsed": true
   },
   "outputs": [],
   "source": [
    "def get_G(number_of_kingdoms, list_of_kingdom_names, starting_kingdom, adjacency_matrix):\n",
    "    \n",
    "    name2index = {}\n",
    "    index2name = {}\n",
    "\n",
    "    count = 0\n",
    "    for name in list_of_kingdom_names:\n",
    "        name2index[name] = count\n",
    "        index2name[count] = name\n",
    "        count += 1\n",
    "\n",
    "    G = adjacency_matrix_to_graph(adjacency_matrix)\n",
    "    \n",
    "    color = {}\n",
    "\n",
    "    for node in G.nodes():\n",
    "            color[node] = \"white\"\n",
    "\n",
    "\n",
    "    conquering_cost = {}\n",
    "    for node in G.nodes():\n",
    "        conquering_cost[node] = adjacency_matrix[node][node]\n",
    "\n",
    "    nx.set_node_attributes(G, conquering_cost, \"conquering_cost\")\n",
    "    nx.set_node_attributes(G, color, \"color\")\n",
    "    \n",
    "    return G, name2index[starting_kingdom]"
   ]
  },
  {
   "cell_type": "code",
   "execution_count": 11,
   "metadata": {
    "collapsed": true
   },
   "outputs": [],
   "source": [
    "def solve_all(solver):\n",
    "    indirectory = \"inputs/\"\n",
    "    outdirectory = \"outputs/\"\n",
    "    \n",
    "    #os.makedirs(outdirectory)\n",
    "    \n",
    "    infiles = os.listdir(indirectory)\n",
    "    \n",
    "    solution_data = {}\n",
    "    \n",
    "    for input_file in tqdm(infiles):\n",
    "            input_data = read_file(indirectory+input_file)\n",
    "            number_of_kingdoms, list_of_kingdom_names, starting_kingdom, adjacency_matrix = data_parser(input_data)\n",
    "            \n",
    "            G, start_index = get_G(number_of_kingdoms, list_of_kingdom_names, starting_kingdom, adjacency_matrix)\n",
    "            try: \n",
    "                closed_walk, conquered_kingdoms = solver(G, start_index)\n",
    "            except KeyError as e:\n",
    "                print(e)\n",
    "                print(\"Error in input file: {}\".format(input_file))\n",
    "            \n",
    "            \n",
    "            # get the score of our solution\n",
    "            score, text = cost_of_solution(G, closed_walk, conquered_kingdoms)\n",
    "            \n",
    "            try:\n",
    "                conquering_cost = re.search('\\d+(\\.\\d{1,100000})?', text.split(\"\\n\")[0]).group(0)\n",
    "                travelling_cost = re.search('\\d+(\\.\\d{1,100000})?', text.split(\"\\n\")[1]).group(0)\n",
    "                total_cost = re.search('\\d+(\\.\\d{1,100000})?', text.split(\"\\n\")[2]).group(0)\n",
    "                \n",
    "                solution_data[indirectory+input_file] = {\"conquering_cost\":conquering_cost, \"travelling_cost\":travelling_cost,\n",
    "                                                    \"total_cost\":total_cost}\n",
    "            except AttributeError:\n",
    "                print(indirectory+input_file)\n",
    "                print(text)\n",
    "       \n",
    "            closed_walk = [list_of_kingdom_names[i] for i in closed_walk]\n",
    "            conquered_kingdoms = [list_of_kingdom_names[i] for i in conquered_kingdoms]\n",
    "            \n",
    "\n",
    "            output_file = outdirectory + input_file[:-3] +\".out\"\n",
    "            write_data_to_file(output_file, closed_walk, ' ')\n",
    "            write_to_file(output_file, '\\n', append=True)\n",
    "            write_data_to_file(output_file, conquered_kingdoms, ' ', append=True)\n",
    "            \n",
    "    return solution_data"
   ]
  },
  {
   "cell_type": "code",
   "execution_count": 14,
   "metadata": {
    "collapsed": false,
    "scrolled": false
   },
   "outputs": [
    {
     "name": "stderr",
     "output_type": "stream",
     "text": [
      "\n",
      "  0%|          | 0/716 [00:00<?, ?it/s]\u001b[A\n",
      "  0%|          | 1/716 [00:00<04:01,  2.96it/s]\u001b[A\n",
      "  0%|          | 2/716 [00:00<02:56,  4.05it/s]\u001b[A\n",
      "  0%|          | 3/716 [00:01<06:25,  1.85it/s]\u001b[A\n",
      "  1%|          | 4/716 [00:01<05:54,  2.01it/s]\u001b[A\n",
      "  1%|          | 5/716 [00:02<05:03,  2.34it/s]\u001b[A\n",
      "  1%|          | 6/716 [00:02<04:28,  2.64it/s]\u001b[A\n",
      "  1%|          | 7/716 [00:02<04:21,  2.71it/s]\u001b[A\n",
      "  1%|          | 8/716 [00:03<04:37,  2.55it/s]\u001b[A\n",
      "  2%|▏         | 11/716 [00:04<04:43,  2.48it/s]\u001b[A\n",
      "  2%|▏         | 13/716 [00:04<04:05,  2.86it/s]\u001b[A\n",
      "  2%|▏         | 14/716 [00:04<04:05,  2.86it/s]\u001b[A\n",
      "  2%|▏         | 15/716 [00:06<05:04,  2.31it/s]\u001b[A\n",
      "  2%|▏         | 17/716 [00:07<05:11,  2.24it/s]\u001b[A\n",
      " 24%|██▍       | 173/716 [01:41<05:17,  1.71it/s]"
     ]
    },
    {
     "name": "stdout",
     "output_type": "stream",
     "text": [
      "pipes\n"
     ]
    },
    {
     "name": "stderr",
     "output_type": "stream",
     "text": [
      " 44%|████▍     | 318/716 [03:18<04:08,  1.60it/s]"
     ]
    },
    {
     "name": "stdout",
     "output_type": "stream",
     "text": [
      "pipes\n"
     ]
    },
    {
     "name": "stderr",
     "output_type": "stream",
     "text": [
      " 69%|██████▉   | 495/716 [05:04<02:15,  1.63it/s]"
     ]
    },
    {
     "name": "stdout",
     "output_type": "stream",
     "text": [
      "pipes\n"
     ]
    },
    {
     "name": "stderr",
     "output_type": "stream",
     "text": [
      " 72%|███████▏  | 517/716 [05:38<02:10,  1.53it/s]"
     ]
    },
    {
     "name": "stdout",
     "output_type": "stream",
     "text": [
      "pipes\n"
     ]
    },
    {
     "name": "stderr",
     "output_type": "stream",
     "text": [
      " 85%|████████▍ | 606/716 [06:52<01:14,  1.47it/s]"
     ]
    },
    {
     "name": "stdout",
     "output_type": "stream",
     "text": [
      "pipes\n"
     ]
    },
    {
     "name": "stderr",
     "output_type": "stream",
     "text": [
      " 87%|████████▋ | 623/716 [07:03<01:03,  1.47it/s]"
     ]
    },
    {
     "name": "stdout",
     "output_type": "stream",
     "text": [
      "pipes\n"
     ]
    },
    {
     "name": "stderr",
     "output_type": "stream",
     "text": [
      " 91%|█████████ | 648/716 [07:19<00:46,  1.47it/s]"
     ]
    },
    {
     "name": "stdout",
     "output_type": "stream",
     "text": [
      "pipes\n"
     ]
    },
    {
     "name": "stderr",
     "output_type": "stream",
     "text": [
      " 93%|█████████▎| 667/716 [07:28<00:32,  1.49it/s]"
     ]
    },
    {
     "name": "stdout",
     "output_type": "stream",
     "text": [
      "pipes\n"
     ]
    },
    {
     "name": "stderr",
     "output_type": "stream",
     "text": [
      "100%|██████████| 716/716 [08:10<00:00,  1.46it/s]\n"
     ]
    }
   ],
   "source": [
    "import shutil\n",
    "\n",
    "shutil.rmtree('outputs/')\n",
    "os.makedirs(\"outputs/\")\n",
    "solution_data  = solve_all(vasilis_solver)"
   ]
  },
  {
   "cell_type": "code",
   "execution_count": 39,
   "metadata": {
    "collapsed": false
   },
   "outputs": [],
   "source": [
    "total_scores = []\n",
    "conquering_cost = []\n",
    "travelling_cost = []\n",
    "filename = []\n",
    "\n",
    "for k in solution_data:\n",
    "    total_scores.append(solution_data[k]['total_cost'])\n",
    "    conquering_cost.append(solution_data[k]['conquering_cost'])\n",
    "    travelling_cost.append(solution_data[k]['travelling_cost'])\n",
    "    filename.append(k)"
   ]
  },
  {
   "cell_type": "code",
   "execution_count": 42,
   "metadata": {
    "collapsed": false
   },
   "outputs": [
    {
     "data": {
      "text/html": [
       "<div>\n",
       "<style scoped>\n",
       "    .dataframe tbody tr th:only-of-type {\n",
       "        vertical-align: middle;\n",
       "    }\n",
       "\n",
       "    .dataframe tbody tr th {\n",
       "        vertical-align: top;\n",
       "    }\n",
       "\n",
       "    .dataframe thead th {\n",
       "        text-align: right;\n",
       "    }\n",
       "</style>\n",
       "<table border=\"1\" class=\"dataframe\">\n",
       "  <thead>\n",
       "    <tr style=\"text-align: right;\">\n",
       "      <th></th>\n",
       "      <th>conquering_cost</th>\n",
       "      <th>filename</th>\n",
       "      <th>total_scores</th>\n",
       "      <th>travelling_cost</th>\n",
       "    </tr>\n",
       "  </thead>\n",
       "  <tbody>\n",
       "    <tr>\n",
       "      <th>0</th>\n",
       "      <td>24654.0</td>\n",
       "      <td>inputs/234.in</td>\n",
       "      <td>102494.0</td>\n",
       "      <td>77840.0</td>\n",
       "    </tr>\n",
       "    <tr>\n",
       "      <th>1</th>\n",
       "      <td>674538.0</td>\n",
       "      <td>inputs/374.in</td>\n",
       "      <td>60398203.44840002</td>\n",
       "      <td>59723665.44840002</td>\n",
       "    </tr>\n",
       "    <tr>\n",
       "      <th>2</th>\n",
       "      <td>2600.0</td>\n",
       "      <td>inputs/265.in</td>\n",
       "      <td>4576.0</td>\n",
       "      <td>1976.0</td>\n",
       "    </tr>\n",
       "    <tr>\n",
       "      <th>3</th>\n",
       "      <td>295.0</td>\n",
       "      <td>inputs/325.in</td>\n",
       "      <td>1341.0</td>\n",
       "      <td>1046.0</td>\n",
       "    </tr>\n",
       "    <tr>\n",
       "      <th>4</th>\n",
       "      <td>5.0</td>\n",
       "      <td>inputs/296.in</td>\n",
       "      <td>21.0</td>\n",
       "      <td>16.0</td>\n",
       "    </tr>\n",
       "  </tbody>\n",
       "</table>\n",
       "</div>"
      ],
      "text/plain": [
       "  conquering_cost       filename       total_scores    travelling_cost\n",
       "0         24654.0  inputs/234.in           102494.0            77840.0\n",
       "1        674538.0  inputs/374.in  60398203.44840002  59723665.44840002\n",
       "2          2600.0  inputs/265.in             4576.0             1976.0\n",
       "3           295.0  inputs/325.in             1341.0             1046.0\n",
       "4             5.0  inputs/296.in               21.0               16.0"
      ]
     },
     "execution_count": 42,
     "metadata": {},
     "output_type": "execute_result"
    }
   ],
   "source": [
    "import pandas as pd\n",
    "\n",
    "results = pd.DataFrame(data = {'filename':filename, 'total_scores':total_scores, 'conquering_cost':conquering_cost, \n",
    "                     'travelling_cost':travelling_cost})\n",
    "results.head()"
   ]
  },
  {
   "cell_type": "code",
   "execution_count": 46,
   "metadata": {
    "collapsed": false
   },
   "outputs": [],
   "source": [
    "results.to_csv(\"results_log/vasilis_greedy.csv\", index=False)"
   ]
  },
  {
   "cell_type": "code",
   "execution_count": null,
   "metadata": {
    "collapsed": false
   },
   "outputs": [],
   "source": []
  },
  {
   "cell_type": "code",
   "execution_count": 50,
   "metadata": {
    "collapsed": true
   },
   "outputs": [],
   "source": [
    "G = nx.Graph()"
   ]
  },
  {
   "cell_type": "code",
   "execution_count": null,
   "metadata": {
    "collapsed": true
   },
   "outputs": [],
   "source": []
  }
 ],
 "metadata": {
  "anaconda-cloud": {},
  "kernelspec": {
   "display_name": "Python [conda env:Python_3.6]",
   "language": "python",
   "name": "conda-env-Python_3.6-py"
  },
  "language_info": {
   "codemirror_mode": {
    "name": "ipython",
    "version": 3
   },
   "file_extension": ".py",
   "mimetype": "text/x-python",
   "name": "python",
   "nbconvert_exporter": "python",
   "pygments_lexer": "ipython3",
   "version": "3.6.2"
  }
 },
 "nbformat": 4,
 "nbformat_minor": 2
}
