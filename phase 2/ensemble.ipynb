{
 "cells": [
  {
   "cell_type": "code",
   "execution_count": 28,
   "metadata": {
    "collapsed": true
   },
   "outputs": [],
   "source": [
    "import sys\n",
    "sys.path.append('..')\n",
    "sys.path.append('../..')\n",
    "import os\n",
    "from utils import *\n",
    "from student_utils_sp18 import *\n",
    "from networkx.algorithms.traversal import *\n",
    "from networkx.algorithms.approximation import *\n",
    "from vasilis_solver import *\n",
    "from simple_solver import *\n",
    "from new_method_solver import *\n",
    "from tqdm import tqdm\n",
    "import matplotlib.pyplot as plt\n",
    "import re\n",
    "%matplotlib inline"
   ]
  },
  {
   "cell_type": "code",
   "execution_count": 54,
   "metadata": {
    "collapsed": false
   },
   "outputs": [],
   "source": [
    "version1 = 0\n",
    "version2 = 0\n",
    "version3 = 0\n",
    "\n",
    "\n",
    "def ensemble(G, start_index):\n",
    "    \n",
    "    global version1, version2, version3\n",
    "    \n",
    "    # solver 1\n",
    "    t1, c1 = simple(G, start_index)\n",
    "    \n",
    "    score1, text1 = cost_of_solution(G, t1, c1)\n",
    "    total_cost1 = re.search('\\d+(\\.\\d{1,100000})?', text1.split(\"\\n\")[2]).group(0)\n",
    "    \n",
    "    # solver 2\n",
    "    t2, c2 = vasilis_solver(G, start_index)\n",
    "    \n",
    "    score2, text2 = cost_of_solution(G, t2, c2)\n",
    "    total_cost2 = re.search('\\d+(\\.\\d{1,100000})?', text2.split(\"\\n\")[2]).group(0)\n",
    "         \n",
    "    # solver 3\n",
    "    t3, c3 = new_method(G, start_index)\n",
    "    \n",
    "    score3, text3 = cost_of_solution(G, t3, c3)\n",
    "    total_cost3 = re.search('\\d+(\\.\\d{1,100000})?', text3.split(\"\\n\")[2]).group(0)\n",
    "    \n",
    "    mini = min(score1, score2, score3)\n",
    "    \n",
    "    if score1==mini:\n",
    "        version1+=1\n",
    "        return t1, c1\n",
    "    elif score2==mini:\n",
    "        version2+=1\n",
    "        return t2, c2\n",
    "    elif score3==mini:\n",
    "        version3+=1\n",
    "        return t3, c3\n",
    "    else:\n",
    "        print(\"We are funcked\")"
   ]
  },
  {
   "cell_type": "code",
   "execution_count": 55,
   "metadata": {
    "collapsed": false
   },
   "outputs": [
    {
     "name": "stderr",
     "output_type": "stream",
     "text": [
      "\n",
      "  0%|          | 0/716 [00:00<?, ?it/s]\u001b[A\n",
      "  0%|          | 1/716 [00:00<06:07,  1.95it/s]\u001b[A\n",
      "  0%|          | 2/716 [00:00<05:42,  2.09it/s]\u001b[A\n",
      "  0%|          | 3/716 [00:03<15:41,  1.32s/it]\u001b[A\n",
      "  1%|          | 4/716 [00:04<13:54,  1.17s/it]\u001b[A\n",
      "  1%|          | 5/716 [00:05<11:58,  1.01s/it]\u001b[A\n",
      "  1%|          | 6/716 [00:05<10:20,  1.14it/s]\u001b[A\n",
      "  1%|          | 7/716 [00:06<10:08,  1.16it/s]\u001b[A\n",
      "  6%|▌         | 42/716 [01:13<19:45,  1.76s/it]"
     ]
    },
    {
     "name": "stdout",
     "output_type": "stream",
     "text": [
      "pipes\n"
     ]
    },
    {
     "name": "stderr",
     "output_type": "stream",
     "text": [
      " 15%|█▍        | 107/716 [02:58<16:55,  1.67s/it]"
     ]
    },
    {
     "name": "stdout",
     "output_type": "stream",
     "text": [
      "pipes\n"
     ]
    },
    {
     "name": "stderr",
     "output_type": "stream",
     "text": [
      " 17%|█▋        | 123/716 [03:25<16:30,  1.67s/it]"
     ]
    },
    {
     "name": "stdout",
     "output_type": "stream",
     "text": [
      "pipes\n"
     ]
    },
    {
     "name": "stderr",
     "output_type": "stream",
     "text": [
      " 24%|██▍       | 171/716 [05:12<16:35,  1.83s/it]"
     ]
    },
    {
     "name": "stdout",
     "output_type": "stream",
     "text": [
      "pipes\n"
     ]
    },
    {
     "name": "stderr",
     "output_type": "stream",
     "text": [
      " 24%|██▍       | 174/716 [05:25<16:52,  1.87s/it]"
     ]
    },
    {
     "name": "stdout",
     "output_type": "stream",
     "text": [
      "pipes\n"
     ]
    },
    {
     "name": "stderr",
     "output_type": "stream",
     "text": [
      " 40%|████      | 288/716 [09:13<13:43,  1.92s/it]"
     ]
    },
    {
     "name": "stdout",
     "output_type": "stream",
     "text": [
      "pipes\n"
     ]
    },
    {
     "name": "stderr",
     "output_type": "stream",
     "text": [
      " 44%|████▍     | 316/716 [10:21<13:06,  1.97s/it]"
     ]
    },
    {
     "name": "stdout",
     "output_type": "stream",
     "text": [
      "pipes\n"
     ]
    },
    {
     "name": "stderr",
     "output_type": "stream",
     "text": [
      " 45%|████▍     | 319/716 [10:26<12:59,  1.96s/it]"
     ]
    },
    {
     "name": "stdout",
     "output_type": "stream",
     "text": [
      "pipes\n"
     ]
    },
    {
     "name": "stderr",
     "output_type": "stream",
     "text": [
      " 58%|█████▊    | 415/716 [13:15<09:36,  1.92s/it]"
     ]
    },
    {
     "name": "stdout",
     "output_type": "stream",
     "text": [
      "pipes\n"
     ]
    },
    {
     "name": "stderr",
     "output_type": "stream",
     "text": [
      " 65%|██████▍   | 464/716 [14:43<08:00,  1.91s/it]"
     ]
    },
    {
     "name": "stdout",
     "output_type": "stream",
     "text": [
      "pipes\n"
     ]
    },
    {
     "name": "stderr",
     "output_type": "stream",
     "text": [
      " 69%|██████▉   | 496/716 [15:44<06:59,  1.91s/it]"
     ]
    },
    {
     "name": "stdout",
     "output_type": "stream",
     "text": [
      "pipes\n"
     ]
    },
    {
     "name": "stderr",
     "output_type": "stream",
     "text": [
      " 72%|███████▏  | 516/716 [17:06<06:37,  1.99s/it]"
     ]
    },
    {
     "name": "stdout",
     "output_type": "stream",
     "text": [
      "pipes\n"
     ]
    },
    {
     "name": "stderr",
     "output_type": "stream",
     "text": [
      " 72%|███████▏  | 519/716 [17:09<06:30,  1.98s/it]"
     ]
    },
    {
     "name": "stdout",
     "output_type": "stream",
     "text": [
      "pipes\n",
      "pipes\n",
      "pipes\n"
     ]
    },
    {
     "name": "stderr",
     "output_type": "stream",
     "text": [
      " 76%|███████▌  | 544/716 [17:59<05:41,  1.98s/it]"
     ]
    },
    {
     "name": "stdout",
     "output_type": "stream",
     "text": [
      "pipes\n"
     ]
    },
    {
     "name": "stderr",
     "output_type": "stream",
     "text": [
      " 77%|███████▋  | 551/716 [18:04<05:24,  1.97s/it]"
     ]
    },
    {
     "name": "stdout",
     "output_type": "stream",
     "text": [
      "pipes\n"
     ]
    },
    {
     "name": "stderr",
     "output_type": "stream",
     "text": [
      " 79%|███████▉  | 568/716 [18:15<04:45,  1.93s/it]"
     ]
    },
    {
     "name": "stdout",
     "output_type": "stream",
     "text": [
      "pipes\n"
     ]
    },
    {
     "name": "stderr",
     "output_type": "stream",
     "text": [
      " 81%|████████  | 578/716 [18:26<04:24,  1.91s/it]"
     ]
    },
    {
     "name": "stdout",
     "output_type": "stream",
     "text": [
      "pipes\n"
     ]
    },
    {
     "name": "stderr",
     "output_type": "stream",
     "text": [
      " 82%|████████▏ | 588/716 [19:14<04:11,  1.96s/it]"
     ]
    },
    {
     "name": "stdout",
     "output_type": "stream",
     "text": [
      "pipes\n"
     ]
    },
    {
     "name": "stderr",
     "output_type": "stream",
     "text": [
      " 85%|████████▍ | 606/716 [20:34<03:44,  2.04s/it]"
     ]
    },
    {
     "name": "stdout",
     "output_type": "stream",
     "text": [
      "pipes\n",
      "pipes\n",
      "pipes\n"
     ]
    },
    {
     "name": "stderr",
     "output_type": "stream",
     "text": [
      " 87%|████████▋ | 623/716 [21:02<03:08,  2.03s/it]"
     ]
    },
    {
     "name": "stdout",
     "output_type": "stream",
     "text": [
      "pipes\n",
      "pipes\n",
      "pipes\n"
     ]
    },
    {
     "name": "stderr",
     "output_type": "stream",
     "text": [
      " 88%|████████▊ | 630/716 [21:07<02:52,  2.01s/it]"
     ]
    },
    {
     "name": "stdout",
     "output_type": "stream",
     "text": [
      "pipes\n"
     ]
    },
    {
     "name": "stderr",
     "output_type": "stream",
     "text": [
      " 91%|█████████ | 648/716 [21:44<02:16,  2.01s/it]"
     ]
    },
    {
     "name": "stdout",
     "output_type": "stream",
     "text": [
      "pipes\n",
      "pipes\n",
      "pipes\n"
     ]
    },
    {
     "name": "stderr",
     "output_type": "stream",
     "text": [
      " 93%|█████████▎| 665/716 [22:07<01:41,  2.00s/it]"
     ]
    },
    {
     "name": "stdout",
     "output_type": "stream",
     "text": [
      "pipes\n",
      "pipes\n",
      "pipes\n"
     ]
    },
    {
     "name": "stderr",
     "output_type": "stream",
     "text": [
      " 94%|█████████▍| 676/716 [22:26<01:19,  1.99s/it]"
     ]
    },
    {
     "name": "stdout",
     "output_type": "stream",
     "text": [
      "pipes\n"
     ]
    },
    {
     "name": "stderr",
     "output_type": "stream",
     "text": [
      "\r",
      " 95%|█████████▍| 677/716 [22:27<01:17,  1.99s/it]"
     ]
    },
    {
     "name": "stdout",
     "output_type": "stream",
     "text": [
      "pipes\n"
     ]
    },
    {
     "name": "stderr",
     "output_type": "stream",
     "text": [
      "100%|██████████| 716/716 [23:59<00:00,  2.01s/it]\n"
     ]
    }
   ],
   "source": [
    "ensemble_3_solution = solve_all(ensemble)"
   ]
  },
  {
   "cell_type": "code",
   "execution_count": 56,
   "metadata": {
    "collapsed": false
   },
   "outputs": [
    {
     "data": {
      "text/html": [
       "<div>\n",
       "<style scoped>\n",
       "    .dataframe tbody tr th:only-of-type {\n",
       "        vertical-align: middle;\n",
       "    }\n",
       "\n",
       "    .dataframe tbody tr th {\n",
       "        vertical-align: top;\n",
       "    }\n",
       "\n",
       "    .dataframe thead th {\n",
       "        text-align: right;\n",
       "    }\n",
       "</style>\n",
       "<table border=\"1\" class=\"dataframe\">\n",
       "  <thead>\n",
       "    <tr style=\"text-align: right;\">\n",
       "      <th></th>\n",
       "      <th>conquering_cost</th>\n",
       "      <th>filename</th>\n",
       "      <th>total_scores</th>\n",
       "      <th>travelling_cost</th>\n",
       "    </tr>\n",
       "  </thead>\n",
       "  <tbody>\n",
       "    <tr>\n",
       "      <th>0</th>\n",
       "      <td>67418.0</td>\n",
       "      <td>inputs/234.in</td>\n",
       "      <td>1.012580e+05</td>\n",
       "      <td>3.384000e+04</td>\n",
       "    </tr>\n",
       "    <tr>\n",
       "      <th>1</th>\n",
       "      <td>866024.0</td>\n",
       "      <td>inputs/374.in</td>\n",
       "      <td>5.723158e+07</td>\n",
       "      <td>5.636556e+07</td>\n",
       "    </tr>\n",
       "    <tr>\n",
       "      <th>2</th>\n",
       "      <td>2600.0</td>\n",
       "      <td>inputs/265.in</td>\n",
       "      <td>4.576000e+03</td>\n",
       "      <td>1.976000e+03</td>\n",
       "    </tr>\n",
       "    <tr>\n",
       "      <th>3</th>\n",
       "      <td>170.0</td>\n",
       "      <td>inputs/325.in</td>\n",
       "      <td>1.078000e+03</td>\n",
       "      <td>9.080000e+02</td>\n",
       "    </tr>\n",
       "    <tr>\n",
       "      <th>4</th>\n",
       "      <td>5.0</td>\n",
       "      <td>inputs/296.in</td>\n",
       "      <td>2.100000e+01</td>\n",
       "      <td>1.600000e+01</td>\n",
       "    </tr>\n",
       "  </tbody>\n",
       "</table>\n",
       "</div>"
      ],
      "text/plain": [
       "   conquering_cost       filename  total_scores  travelling_cost\n",
       "0          67418.0  inputs/234.in  1.012580e+05     3.384000e+04\n",
       "1         866024.0  inputs/374.in  5.723158e+07     5.636556e+07\n",
       "2           2600.0  inputs/265.in  4.576000e+03     1.976000e+03\n",
       "3            170.0  inputs/325.in  1.078000e+03     9.080000e+02\n",
       "4              5.0  inputs/296.in  2.100000e+01     1.600000e+01"
      ]
     },
     "execution_count": 56,
     "metadata": {},
     "output_type": "execute_result"
    }
   ],
   "source": [
    "total_scores = []\n",
    "conquering_cost = []\n",
    "travelling_cost = []\n",
    "filename = []\n",
    "\n",
    "for k in ensemble_3_solution:\n",
    "    total_scores.append(float(ensemble_3_solution[k]['total_cost']))\n",
    "    conquering_cost.append(float(ensemble_3_solution[k]['conquering_cost']))\n",
    "    travelling_cost.append(float(ensemble_3_solution[k]['travelling_cost']))\n",
    "    filename.append(k)\n",
    "    \n",
    "import pandas as pd\n",
    "\n",
    "ensemble_3_solution_result = pd.DataFrame(data = {'filename':filename, 'total_scores':total_scores, 'conquering_cost':conquering_cost, \n",
    "                     'travelling_cost':travelling_cost})\n",
    "ensemble_3_solution_result.head()"
   ]
  },
  {
   "cell_type": "code",
   "execution_count": 57,
   "metadata": {
    "collapsed": true
   },
   "outputs": [],
   "source": [
    "past_result = pd.read_csv(\"results_log/vasilis_greedy.csv\")"
   ]
  },
  {
   "cell_type": "code",
   "execution_count": 58,
   "metadata": {
    "collapsed": false
   },
   "outputs": [
    {
     "data": {
      "text/plain": [
       "(0.4329608938547486, 0.39804469273743015, 0.16899441340782123)"
      ]
     },
     "execution_count": 58,
     "metadata": {},
     "output_type": "execute_result"
    }
   ],
   "source": [
    "s = version1 + version2 + version3\n",
    "version1/s, version2/s, version3/s"
   ]
  },
  {
   "cell_type": "code",
   "execution_count": 66,
   "metadata": {
    "collapsed": false,
    "scrolled": false
   },
   "outputs": [
    {
     "data": {
      "text/plain": [
       "0.2657102034576518"
      ]
     },
     "execution_count": 66,
     "metadata": {},
     "output_type": "execute_result"
    }
   ],
   "source": [
    "ix = ensemble_3_solution_result['total_scores']<past_result['total_scores'].values\n",
    "\n",
    "a = (past_result.loc[ix, :]['total_scores'] - ensemble_3_solution_result.loc[ix, :]['total_scores'])/past_result.loc[ix, :]['total_scores']\n",
    "np.mean(a)"
   ]
  },
  {
   "cell_type": "code",
   "execution_count": 2,
   "metadata": {
    "collapsed": true
   },
   "outputs": [],
   "source": [
    "def solve_all(solver):\n",
    "    indirectory = \"inputs/\"\n",
    "    outdirectory = \"outputs/\"\n",
    "    \n",
    "    #os.makedirs(outdirectory)\n",
    "    \n",
    "    infiles = os.listdir(indirectory)\n",
    "    \n",
    "    solution_data = {}\n",
    "    \n",
    "    for input_file in tqdm(infiles):\n",
    "            input_data = read_file(indirectory+input_file)\n",
    "            number_of_kingdoms, list_of_kingdom_names, starting_kingdom, adjacency_matrix = data_parser(input_data)\n",
    "            \n",
    "            G, start_index = get_G(number_of_kingdoms, list_of_kingdom_names, starting_kingdom, adjacency_matrix)\n",
    "            try: \n",
    "                closed_walk, conquered_kingdoms = solver(G, start_index)\n",
    "            except KeyError as e:\n",
    "                print(e)\n",
    "                print(\"Error in input file: {}\".format(input_file))\n",
    "            \n",
    "            \n",
    "            # get the score of our solution\n",
    "            score, text = cost_of_solution(G, closed_walk, conquered_kingdoms)\n",
    "            \n",
    "            try:\n",
    "                conquering_cost = re.search('\\d+(\\.\\d{1,100000})?', text.split(\"\\n\")[0]).group(0)\n",
    "                travelling_cost = re.search('\\d+(\\.\\d{1,100000})?', text.split(\"\\n\")[1]).group(0)\n",
    "                total_cost = re.search('\\d+(\\.\\d{1,100000})?', text.split(\"\\n\")[2]).group(0)\n",
    "                \n",
    "                solution_data[indirectory+input_file] = {\"conquering_cost\":conquering_cost, \"travelling_cost\":travelling_cost,\n",
    "                                                    \"total_cost\":total_cost}\n",
    "            except AttributeError:\n",
    "                print(indirectory+input_file)\n",
    "                print(text)\n",
    "       \n",
    "            closed_walk = [list_of_kingdom_names[i] for i in closed_walk]\n",
    "            conquered_kingdoms = [list_of_kingdom_names[i] for i in conquered_kingdoms]\n",
    "            \n",
    "\n",
    "            output_file = outdirectory + input_file[:-3] +\".out\"\n",
    "            write_data_to_file(output_file, closed_walk, ' ')\n",
    "            write_to_file(output_file, '\\n', append=True)\n",
    "            write_data_to_file(output_file, conquered_kingdoms, ' ', append=True)\n",
    "            \n",
    "    return solution_data"
   ]
  },
  {
   "cell_type": "code",
   "execution_count": 6,
   "metadata": {
    "collapsed": true
   },
   "outputs": [],
   "source": [
    "def get_G(number_of_kingdoms, list_of_kingdom_names, starting_kingdom, adjacency_matrix):\n",
    "    \n",
    "    name2index = {}\n",
    "    index2name = {}\n",
    "\n",
    "    count = 0\n",
    "    for name in list_of_kingdom_names:\n",
    "        name2index[name] = count\n",
    "        index2name[count] = name\n",
    "        count += 1\n",
    "\n",
    "    G = adjacency_matrix_to_graph(adjacency_matrix)\n",
    "    \n",
    "    color = {}\n",
    "\n",
    "    for node in G.nodes():\n",
    "            color[node] = \"white\"\n",
    "\n",
    "\n",
    "    conquering_cost = {}\n",
    "    for node in G.nodes():\n",
    "        conquering_cost[node] = adjacency_matrix[node][node]\n",
    "\n",
    "    nx.set_node_attributes(G, conquering_cost, \"conquering_cost\")\n",
    "    nx.set_node_attributes(G, color, \"color\")\n",
    "    \n",
    "    return G, name2index[starting_kingdom]"
   ]
  },
  {
   "cell_type": "code",
   "execution_count": null,
   "metadata": {
    "collapsed": true
   },
   "outputs": [],
   "source": []
  }
 ],
 "metadata": {
  "kernelspec": {
   "display_name": "Python [conda env:Python_3.6]",
   "language": "python",
   "name": "conda-env-Python_3.6-py"
  },
  "language_info": {
   "codemirror_mode": {
    "name": "ipython",
    "version": 3
   },
   "file_extension": ".py",
   "mimetype": "text/x-python",
   "name": "python",
   "nbconvert_exporter": "python",
   "pygments_lexer": "ipython3",
   "version": "3.6.2"
  }
 },
 "nbformat": 4,
 "nbformat_minor": 2
}
