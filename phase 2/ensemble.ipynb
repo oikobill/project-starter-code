{
 "cells": [
  {
   "cell_type": "code",
   "execution_count": 12,
   "metadata": {
    "collapsed": true
   },
   "outputs": [],
   "source": [
    "import sys\n",
    "sys.path.append('..')\n",
    "sys.path.append('../..')\n",
    "import os\n",
    "from utils import *\n",
    "from student_utils_sp18 import *\n",
    "from networkx.algorithms.traversal import *\n",
    "from networkx.algorithms.approximation import *\n",
    "from vasilis_solver import *\n",
    "from simple_solver import *\n",
    "from tqdm import tqdm\n",
    "import matplotlib.pyplot as plt\n",
    "import re\n",
    "%matplotlib inline"
   ]
  },
  {
   "cell_type": "code",
   "execution_count": 21,
   "metadata": {
    "collapsed": true
   },
   "outputs": [],
   "source": [
    "def ensemble(G, start_index):\n",
    "    \n",
    "    # solver 1\n",
    "    t1, c1 = simple(G, start_index)\n",
    "    \n",
    "    score1, text1 = cost_of_solution(G, t1, c1)\n",
    "    total_cost1 = re.search('\\d+(\\.\\d{1,100000})?', text1.split(\"\\n\")[2]).group(0)\n",
    "    \n",
    "    # solver 2\n",
    "    t2, c2 = vasilis_solver(G, start_index)\n",
    "    \n",
    "    score2, text2 = cost_of_solution(G, t2, c2)\n",
    "    total_cost2 = re.search('\\d+(\\.\\d{1,100000})?', text2.split(\"\\n\")[2]).group(0)\n",
    "         \n",
    "    \n",
    "    if total_cost1<total_cost2:\n",
    "        return t1, c1\n",
    "    else:\n",
    "        return t2, c2"
   ]
  },
  {
   "cell_type": "code",
   "execution_count": 22,
   "metadata": {
    "collapsed": false
   },
   "outputs": [
    {
     "name": "stderr",
     "output_type": "stream",
     "text": [
      "\n",
      "  0%|          | 0/716 [00:00<?, ?it/s]\u001b[A\n",
      "  0%|          | 1/716 [00:00<06:16,  1.90it/s]\u001b[A\n",
      "  0%|          | 2/716 [00:00<04:02,  2.95it/s]\u001b[A\n",
      "  0%|          | 3/716 [00:02<09:04,  1.31it/s]\u001b[A\n",
      "  1%|          | 4/716 [00:02<08:27,  1.40it/s]\u001b[A\n",
      "  1%|          | 5/716 [00:03<07:22,  1.61it/s]\u001b[A\n",
      "  1%|          | 6/716 [00:03<06:25,  1.84it/s]\u001b[A\n",
      "  1%|          | 7/716 [00:03<06:25,  1.84it/s]\u001b[A\n",
      "  6%|▌         | 41/716 [00:50<13:45,  1.22s/it]"
     ]
    },
    {
     "name": "stdout",
     "output_type": "stream",
     "text": [
      "pipes\n"
     ]
    },
    {
     "name": "stderr",
     "output_type": "stream",
     "text": [
      "  9%|▉         | 66/716 [01:29<14:39,  1.35s/it]"
     ]
    },
    {
     "ename": "KeyboardInterrupt",
     "evalue": "",
     "output_type": "error",
     "traceback": [
      "\u001b[0;31m---------------------------------------------------------------------------\u001b[0m",
      "\u001b[0;31mKeyboardInterrupt\u001b[0m                         Traceback (most recent call last)",
      "\u001b[0;32m<ipython-input-22-18e2d18c20a7>\u001b[0m in \u001b[0;36m<module>\u001b[0;34m()\u001b[0m\n\u001b[0;32m----> 1\u001b[0;31m \u001b[0msolve_all\u001b[0m\u001b[0;34m(\u001b[0m\u001b[0mensemble\u001b[0m\u001b[0;34m)\u001b[0m\u001b[0;34m\u001b[0m\u001b[0m\n\u001b[0m",
      "\u001b[0;32m<ipython-input-2-bd92fd14c44c>\u001b[0m in \u001b[0;36msolve_all\u001b[0;34m(solver)\u001b[0m\n\u001b[1;32m     15\u001b[0m             \u001b[0mG\u001b[0m\u001b[0;34m,\u001b[0m \u001b[0mstart_index\u001b[0m \u001b[0;34m=\u001b[0m \u001b[0mget_G\u001b[0m\u001b[0;34m(\u001b[0m\u001b[0mnumber_of_kingdoms\u001b[0m\u001b[0;34m,\u001b[0m \u001b[0mlist_of_kingdom_names\u001b[0m\u001b[0;34m,\u001b[0m \u001b[0mstarting_kingdom\u001b[0m\u001b[0;34m,\u001b[0m \u001b[0madjacency_matrix\u001b[0m\u001b[0;34m)\u001b[0m\u001b[0;34m\u001b[0m\u001b[0m\n\u001b[1;32m     16\u001b[0m             \u001b[0;32mtry\u001b[0m\u001b[0;34m:\u001b[0m\u001b[0;34m\u001b[0m\u001b[0m\n\u001b[0;32m---> 17\u001b[0;31m                 \u001b[0mclosed_walk\u001b[0m\u001b[0;34m,\u001b[0m \u001b[0mconquered_kingdoms\u001b[0m \u001b[0;34m=\u001b[0m \u001b[0msolver\u001b[0m\u001b[0;34m(\u001b[0m\u001b[0mG\u001b[0m\u001b[0;34m,\u001b[0m \u001b[0mstart_index\u001b[0m\u001b[0;34m)\u001b[0m\u001b[0;34m\u001b[0m\u001b[0m\n\u001b[0m\u001b[1;32m     18\u001b[0m             \u001b[0;32mexcept\u001b[0m \u001b[0mKeyError\u001b[0m \u001b[0;32mas\u001b[0m \u001b[0me\u001b[0m\u001b[0;34m:\u001b[0m\u001b[0;34m\u001b[0m\u001b[0m\n\u001b[1;32m     19\u001b[0m                 \u001b[0mprint\u001b[0m\u001b[0;34m(\u001b[0m\u001b[0me\u001b[0m\u001b[0;34m)\u001b[0m\u001b[0;34m\u001b[0m\u001b[0m\n",
      "\u001b[0;32m<ipython-input-21-a5bf036a1df3>\u001b[0m in \u001b[0;36mensemble\u001b[0;34m(G, start_index)\u001b[0m\n\u001b[1;32m      2\u001b[0m \u001b[0;34m\u001b[0m\u001b[0m\n\u001b[1;32m      3\u001b[0m     \u001b[0;31m# solver 1\u001b[0m\u001b[0;34m\u001b[0m\u001b[0;34m\u001b[0m\u001b[0m\n\u001b[0;32m----> 4\u001b[0;31m     \u001b[0mt1\u001b[0m\u001b[0;34m,\u001b[0m \u001b[0mc1\u001b[0m \u001b[0;34m=\u001b[0m \u001b[0msimple\u001b[0m\u001b[0;34m(\u001b[0m\u001b[0mG\u001b[0m\u001b[0;34m,\u001b[0m \u001b[0mstart_index\u001b[0m\u001b[0;34m)\u001b[0m\u001b[0;34m\u001b[0m\u001b[0m\n\u001b[0m\u001b[1;32m      5\u001b[0m \u001b[0;34m\u001b[0m\u001b[0m\n\u001b[1;32m      6\u001b[0m     \u001b[0mscore1\u001b[0m\u001b[0;34m,\u001b[0m \u001b[0mtext1\u001b[0m \u001b[0;34m=\u001b[0m \u001b[0mcost_of_solution\u001b[0m\u001b[0;34m(\u001b[0m\u001b[0mG\u001b[0m\u001b[0;34m,\u001b[0m \u001b[0mt1\u001b[0m\u001b[0;34m,\u001b[0m \u001b[0mc1\u001b[0m\u001b[0;34m)\u001b[0m\u001b[0;34m\u001b[0m\u001b[0m\n",
      "\u001b[0;32m~/Desktop/CS 170/project-starter-code/phase 2/simple_solver.py\u001b[0m in \u001b[0;36msimple\u001b[0;34m(G, start_index)\u001b[0m\n\u001b[1;32m     19\u001b[0m     \u001b[0mnodes_to_visit\u001b[0m \u001b[0;34m=\u001b[0m \u001b[0mlist\u001b[0m\u001b[0;34m(\u001b[0m\u001b[0mmin_weighted_dominating_set\u001b[0m\u001b[0;34m(\u001b[0m\u001b[0mG\u001b[0m\u001b[0;34m,\u001b[0m \u001b[0mweight\u001b[0m\u001b[0;34m=\u001b[0m\u001b[0;32mNone\u001b[0m\u001b[0;34m)\u001b[0m\u001b[0;34m)\u001b[0m\u001b[0;34m\u001b[0m\u001b[0m\n\u001b[1;32m     20\u001b[0m \u001b[0;34m\u001b[0m\u001b[0m\n\u001b[0;32m---> 21\u001b[0;31m     \u001b[0mST\u001b[0m \u001b[0;34m=\u001b[0m \u001b[0msteinertree\u001b[0m\u001b[0;34m.\u001b[0m\u001b[0msteiner_tree\u001b[0m\u001b[0;34m(\u001b[0m\u001b[0mG\u001b[0m\u001b[0;34m,\u001b[0m \u001b[0mset\u001b[0m\u001b[0;34m(\u001b[0m\u001b[0mlist\u001b[0m\u001b[0;34m(\u001b[0m\u001b[0mnodes_to_visit\u001b[0m\u001b[0;34m)\u001b[0m\u001b[0;34m+\u001b[0m\u001b[0;34m[\u001b[0m\u001b[0mstart_index\u001b[0m\u001b[0;34m]\u001b[0m\u001b[0;34m)\u001b[0m\u001b[0;34m)\u001b[0m\u001b[0;34m\u001b[0m\u001b[0m\n\u001b[0m\u001b[1;32m     22\u001b[0m \u001b[0;34m\u001b[0m\u001b[0m\n\u001b[1;32m     23\u001b[0m     \u001b[0;32mif\u001b[0m \u001b[0mnodes_to_visit\u001b[0m\u001b[0;34m[\u001b[0m\u001b[0;36m0\u001b[0m\u001b[0;34m]\u001b[0m\u001b[0;34m==\u001b[0m\u001b[0mstart_index\u001b[0m \u001b[0;32mand\u001b[0m \u001b[0mlen\u001b[0m\u001b[0;34m(\u001b[0m\u001b[0mnodes_to_visit\u001b[0m\u001b[0;34m)\u001b[0m\u001b[0;34m==\u001b[0m\u001b[0;36m1\u001b[0m\u001b[0;34m:\u001b[0m\u001b[0;34m\u001b[0m\u001b[0m\n",
      "\u001b[0;32m<decorator-gen-619>\u001b[0m in \u001b[0;36msteiner_tree\u001b[0;34m(G, terminal_nodes, weight)\u001b[0m\n",
      "\u001b[0;32m~/anaconda3/envs/Python_3.6/lib/python3.6/site-packages/networkx/utils/decorators.py\u001b[0m in \u001b[0;36m_not_implemented_for\u001b[0;34m(not_implement_for_func, *args, **kwargs)\u001b[0m\n\u001b[1;32m     71\u001b[0m             \u001b[0;32mraise\u001b[0m \u001b[0mnx\u001b[0m\u001b[0;34m.\u001b[0m\u001b[0mNetworkXNotImplemented\u001b[0m\u001b[0;34m(\u001b[0m\u001b[0mmsg\u001b[0m\u001b[0;34m)\u001b[0m\u001b[0;34m\u001b[0m\u001b[0m\n\u001b[1;32m     72\u001b[0m         \u001b[0;32melse\u001b[0m\u001b[0;34m:\u001b[0m\u001b[0;34m\u001b[0m\u001b[0m\n\u001b[0;32m---> 73\u001b[0;31m             \u001b[0;32mreturn\u001b[0m \u001b[0mnot_implement_for_func\u001b[0m\u001b[0;34m(\u001b[0m\u001b[0;34m*\u001b[0m\u001b[0margs\u001b[0m\u001b[0;34m,\u001b[0m \u001b[0;34m**\u001b[0m\u001b[0mkwargs\u001b[0m\u001b[0;34m)\u001b[0m\u001b[0;34m\u001b[0m\u001b[0m\n\u001b[0m\u001b[1;32m     74\u001b[0m     \u001b[0;32mreturn\u001b[0m \u001b[0m_not_implemented_for\u001b[0m\u001b[0;34m\u001b[0m\u001b[0m\n\u001b[1;32m     75\u001b[0m \u001b[0;34m\u001b[0m\u001b[0m\n",
      "\u001b[0;32m~/anaconda3/envs/Python_3.6/lib/python3.6/site-packages/networkx/algorithms/approximation/steinertree.py\u001b[0m in \u001b[0;36msteiner_tree\u001b[0;34m(G, terminal_nodes, weight)\u001b[0m\n\u001b[1;32m     68\u001b[0m     \u001b[0;31m# M is the subgraph of the metric closure induced by the terminal nodes of\u001b[0m\u001b[0;34m\u001b[0m\u001b[0;34m\u001b[0m\u001b[0m\n\u001b[1;32m     69\u001b[0m     \u001b[0;31m# G.\u001b[0m\u001b[0;34m\u001b[0m\u001b[0;34m\u001b[0m\u001b[0m\n\u001b[0;32m---> 70\u001b[0;31m     \u001b[0mM\u001b[0m \u001b[0;34m=\u001b[0m \u001b[0mmetric_closure\u001b[0m\u001b[0;34m(\u001b[0m\u001b[0mG\u001b[0m\u001b[0;34m,\u001b[0m \u001b[0mweight\u001b[0m\u001b[0;34m=\u001b[0m\u001b[0mweight\u001b[0m\u001b[0;34m)\u001b[0m\u001b[0;34m\u001b[0m\u001b[0m\n\u001b[0m\u001b[1;32m     71\u001b[0m     \u001b[0;31m# Use the 'distance' attribute of each edge provided by the metric closure\u001b[0m\u001b[0;34m\u001b[0m\u001b[0;34m\u001b[0m\u001b[0m\n\u001b[1;32m     72\u001b[0m     \u001b[0;31m# graph.\u001b[0m\u001b[0;34m\u001b[0m\u001b[0;34m\u001b[0m\u001b[0m\n",
      "\u001b[0;32m<decorator-gen-617>\u001b[0m in \u001b[0;36mmetric_closure\u001b[0;34m(G, weight)\u001b[0m\n",
      "\u001b[0;32m~/anaconda3/envs/Python_3.6/lib/python3.6/site-packages/networkx/utils/decorators.py\u001b[0m in \u001b[0;36m_not_implemented_for\u001b[0;34m(not_implement_for_func, *args, **kwargs)\u001b[0m\n\u001b[1;32m     71\u001b[0m             \u001b[0;32mraise\u001b[0m \u001b[0mnx\u001b[0m\u001b[0;34m.\u001b[0m\u001b[0mNetworkXNotImplemented\u001b[0m\u001b[0;34m(\u001b[0m\u001b[0mmsg\u001b[0m\u001b[0;34m)\u001b[0m\u001b[0;34m\u001b[0m\u001b[0m\n\u001b[1;32m     72\u001b[0m         \u001b[0;32melse\u001b[0m\u001b[0;34m:\u001b[0m\u001b[0;34m\u001b[0m\u001b[0m\n\u001b[0;32m---> 73\u001b[0;31m             \u001b[0;32mreturn\u001b[0m \u001b[0mnot_implement_for_func\u001b[0m\u001b[0;34m(\u001b[0m\u001b[0;34m*\u001b[0m\u001b[0margs\u001b[0m\u001b[0;34m,\u001b[0m \u001b[0;34m**\u001b[0m\u001b[0mkwargs\u001b[0m\u001b[0;34m)\u001b[0m\u001b[0;34m\u001b[0m\u001b[0m\n\u001b[0m\u001b[1;32m     74\u001b[0m     \u001b[0;32mreturn\u001b[0m \u001b[0m_not_implemented_for\u001b[0m\u001b[0;34m\u001b[0m\u001b[0m\n\u001b[1;32m     75\u001b[0m \u001b[0;34m\u001b[0m\u001b[0m\n",
      "\u001b[0;32m~/anaconda3/envs/Python_3.6/lib/python3.6/site-packages/networkx/algorithms/approximation/steinertree.py\u001b[0m in \u001b[0;36mmetric_closure\u001b[0;34m(G, weight)\u001b[0m\n\u001b[1;32m     31\u001b[0m         \u001b[0mseen\u001b[0m\u001b[0;34m.\u001b[0m\u001b[0madd\u001b[0m\u001b[0;34m(\u001b[0m\u001b[0mu\u001b[0m\u001b[0;34m)\u001b[0m\u001b[0;34m\u001b[0m\u001b[0m\n\u001b[1;32m     32\u001b[0m         \u001b[0;32mfor\u001b[0m \u001b[0mv\u001b[0m \u001b[0;32min\u001b[0m \u001b[0mGnodes\u001b[0m \u001b[0;34m-\u001b[0m \u001b[0mseen\u001b[0m\u001b[0;34m:\u001b[0m\u001b[0;34m\u001b[0m\u001b[0m\n\u001b[0;32m---> 33\u001b[0;31m             \u001b[0mM\u001b[0m\u001b[0;34m.\u001b[0m\u001b[0madd_edge\u001b[0m\u001b[0;34m(\u001b[0m\u001b[0mu\u001b[0m\u001b[0;34m,\u001b[0m \u001b[0mv\u001b[0m\u001b[0;34m,\u001b[0m \u001b[0mdistance\u001b[0m\u001b[0;34m=\u001b[0m\u001b[0mdistance\u001b[0m\u001b[0;34m[\u001b[0m\u001b[0mv\u001b[0m\u001b[0;34m]\u001b[0m\u001b[0;34m,\u001b[0m \u001b[0mpath\u001b[0m\u001b[0;34m=\u001b[0m\u001b[0mpath\u001b[0m\u001b[0;34m[\u001b[0m\u001b[0mv\u001b[0m\u001b[0;34m]\u001b[0m\u001b[0;34m)\u001b[0m\u001b[0;34m\u001b[0m\u001b[0m\n\u001b[0m\u001b[1;32m     34\u001b[0m \u001b[0;34m\u001b[0m\u001b[0m\n\u001b[1;32m     35\u001b[0m     \u001b[0;32mreturn\u001b[0m \u001b[0mM\u001b[0m\u001b[0;34m\u001b[0m\u001b[0m\n",
      "\u001b[0;32m~/anaconda3/envs/Python_3.6/lib/python3.6/site-packages/networkx/classes/graph.py\u001b[0m in \u001b[0;36madd_edge\u001b[0;34m(self, u_of_edge, v_of_edge, **attr)\u001b[0m\n\u001b[1;32m    880\u001b[0m             \u001b[0mself\u001b[0m\u001b[0;34m.\u001b[0m\u001b[0m_node\u001b[0m\u001b[0;34m[\u001b[0m\u001b[0mv\u001b[0m\u001b[0;34m]\u001b[0m \u001b[0;34m=\u001b[0m \u001b[0;34m{\u001b[0m\u001b[0;34m}\u001b[0m\u001b[0;34m\u001b[0m\u001b[0m\n\u001b[1;32m    881\u001b[0m         \u001b[0;31m# add the edge\u001b[0m\u001b[0;34m\u001b[0m\u001b[0;34m\u001b[0m\u001b[0m\n\u001b[0;32m--> 882\u001b[0;31m         \u001b[0mdatadict\u001b[0m \u001b[0;34m=\u001b[0m \u001b[0mself\u001b[0m\u001b[0;34m.\u001b[0m\u001b[0m_adj\u001b[0m\u001b[0;34m[\u001b[0m\u001b[0mu\u001b[0m\u001b[0;34m]\u001b[0m\u001b[0;34m.\u001b[0m\u001b[0mget\u001b[0m\u001b[0;34m(\u001b[0m\u001b[0mv\u001b[0m\u001b[0;34m,\u001b[0m \u001b[0mself\u001b[0m\u001b[0;34m.\u001b[0m\u001b[0medge_attr_dict_factory\u001b[0m\u001b[0;34m(\u001b[0m\u001b[0;34m)\u001b[0m\u001b[0;34m)\u001b[0m\u001b[0;34m\u001b[0m\u001b[0m\n\u001b[0m\u001b[1;32m    883\u001b[0m         \u001b[0mdatadict\u001b[0m\u001b[0;34m.\u001b[0m\u001b[0mupdate\u001b[0m\u001b[0;34m(\u001b[0m\u001b[0mattr\u001b[0m\u001b[0;34m)\u001b[0m\u001b[0;34m\u001b[0m\u001b[0m\n\u001b[1;32m    884\u001b[0m         \u001b[0mself\u001b[0m\u001b[0;34m.\u001b[0m\u001b[0m_adj\u001b[0m\u001b[0;34m[\u001b[0m\u001b[0mu\u001b[0m\u001b[0;34m]\u001b[0m\u001b[0;34m[\u001b[0m\u001b[0mv\u001b[0m\u001b[0;34m]\u001b[0m \u001b[0;34m=\u001b[0m \u001b[0mdatadict\u001b[0m\u001b[0;34m\u001b[0m\u001b[0m\n",
      "\u001b[0;31mKeyboardInterrupt\u001b[0m: "
     ]
    }
   ],
   "source": [
    "solve_all(ensemble)"
   ]
  },
  {
   "cell_type": "code",
   "execution_count": null,
   "metadata": {
    "collapsed": true
   },
   "outputs": [],
   "source": []
  },
  {
   "cell_type": "code",
   "execution_count": null,
   "metadata": {
    "collapsed": true
   },
   "outputs": [],
   "source": []
  },
  {
   "cell_type": "code",
   "execution_count": null,
   "metadata": {
    "collapsed": true
   },
   "outputs": [],
   "source": []
  },
  {
   "cell_type": "code",
   "execution_count": 2,
   "metadata": {
    "collapsed": true
   },
   "outputs": [],
   "source": [
    "def solve_all(solver):\n",
    "    indirectory = \"inputs/\"\n",
    "    outdirectory = \"outputs/\"\n",
    "    \n",
    "    #os.makedirs(outdirectory)\n",
    "    \n",
    "    infiles = os.listdir(indirectory)\n",
    "    \n",
    "    solution_data = {}\n",
    "    \n",
    "    for input_file in tqdm(infiles):\n",
    "            input_data = read_file(indirectory+input_file)\n",
    "            number_of_kingdoms, list_of_kingdom_names, starting_kingdom, adjacency_matrix = data_parser(input_data)\n",
    "            \n",
    "            G, start_index = get_G(number_of_kingdoms, list_of_kingdom_names, starting_kingdom, adjacency_matrix)\n",
    "            try: \n",
    "                closed_walk, conquered_kingdoms = solver(G, start_index)\n",
    "            except KeyError as e:\n",
    "                print(e)\n",
    "                print(\"Error in input file: {}\".format(input_file))\n",
    "            \n",
    "            \n",
    "            # get the score of our solution\n",
    "            score, text = cost_of_solution(G, closed_walk, conquered_kingdoms)\n",
    "            \n",
    "            try:\n",
    "                conquering_cost = re.search('\\d+(\\.\\d{1,100000})?', text.split(\"\\n\")[0]).group(0)\n",
    "                travelling_cost = re.search('\\d+(\\.\\d{1,100000})?', text.split(\"\\n\")[1]).group(0)\n",
    "                total_cost = re.search('\\d+(\\.\\d{1,100000})?', text.split(\"\\n\")[2]).group(0)\n",
    "                \n",
    "                solution_data[indirectory+input_file] = {\"conquering_cost\":conquering_cost, \"travelling_cost\":travelling_cost,\n",
    "                                                    \"total_cost\":total_cost}\n",
    "            except AttributeError:\n",
    "                print(indirectory+input_file)\n",
    "                print(text)\n",
    "       \n",
    "            closed_walk = [list_of_kingdom_names[i] for i in closed_walk]\n",
    "            conquered_kingdoms = [list_of_kingdom_names[i] for i in conquered_kingdoms]\n",
    "            \n",
    "\n",
    "            output_file = outdirectory + input_file[:-3] +\".out\"\n",
    "            write_data_to_file(output_file, closed_walk, ' ')\n",
    "            write_to_file(output_file, '\\n', append=True)\n",
    "            write_data_to_file(output_file, conquered_kingdoms, ' ', append=True)\n",
    "            \n",
    "    return solution_data"
   ]
  },
  {
   "cell_type": "code",
   "execution_count": 6,
   "metadata": {
    "collapsed": true
   },
   "outputs": [],
   "source": [
    "def get_G(number_of_kingdoms, list_of_kingdom_names, starting_kingdom, adjacency_matrix):\n",
    "    \n",
    "    name2index = {}\n",
    "    index2name = {}\n",
    "\n",
    "    count = 0\n",
    "    for name in list_of_kingdom_names:\n",
    "        name2index[name] = count\n",
    "        index2name[count] = name\n",
    "        count += 1\n",
    "\n",
    "    G = adjacency_matrix_to_graph(adjacency_matrix)\n",
    "    \n",
    "    color = {}\n",
    "\n",
    "    for node in G.nodes():\n",
    "            color[node] = \"white\"\n",
    "\n",
    "\n",
    "    conquering_cost = {}\n",
    "    for node in G.nodes():\n",
    "        conquering_cost[node] = adjacency_matrix[node][node]\n",
    "\n",
    "    nx.set_node_attributes(G, conquering_cost, \"conquering_cost\")\n",
    "    nx.set_node_attributes(G, color, \"color\")\n",
    "    \n",
    "    return G, name2index[starting_kingdom]"
   ]
  },
  {
   "cell_type": "code",
   "execution_count": null,
   "metadata": {
    "collapsed": true
   },
   "outputs": [],
   "source": []
  }
 ],
 "metadata": {
  "kernelspec": {
   "display_name": "Python [conda env:Python_3.6]",
   "language": "python",
   "name": "conda-env-Python_3.6-py"
  },
  "language_info": {
   "codemirror_mode": {
    "name": "ipython",
    "version": 3
   },
   "file_extension": ".py",
   "mimetype": "text/x-python",
   "name": "python",
   "nbconvert_exporter": "python",
   "pygments_lexer": "ipython3",
   "version": "3.6.2"
  }
 },
 "nbformat": 4,
 "nbformat_minor": 2
}
