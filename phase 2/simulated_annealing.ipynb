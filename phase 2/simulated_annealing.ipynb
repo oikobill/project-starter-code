{
 "cells": [
  {
   "cell_type": "code",
   "execution_count": 1,
   "metadata": {
    "collapsed": true
   },
   "outputs": [],
   "source": [
    "import sys\n",
    "sys.path.append('..')\n",
    "sys.path.append('../..')\n",
    "import os\n",
    "from utils import *\n",
    "from student_utils_sp18 import *\n",
    "from networkx.algorithms.traversal import *\n",
    "from networkx.algorithms.approximation import *\n",
    "from vasilis_solver import *\n",
    "from tqdm import tqdm\n",
    "import matplotlib.pyplot as plt\n",
    "import re\n",
    "%matplotlib inline"
   ]
  },
  {
   "cell_type": "code",
   "execution_count": 6,
   "metadata": {
    "collapsed": true
   },
   "outputs": [],
   "source": [
    "indirectory = \"inputs/\"\n",
    "input_files = os.listdir(indirectory)"
   ]
  },
  {
   "cell_type": "code",
   "execution_count": 7,
   "metadata": {
    "collapsed": false
   },
   "outputs": [
    {
     "data": {
      "image/png": "[encoded data removed]",
      "text/plain": [
       "<Figure size 576x576 with 1 Axes>"
      ]
     },
     "metadata": {},
     "output_type": "display_data"
    }
   ],
   "source": [
    "input_data = read_file(indirectory+\"0.in\")\n",
    "number_of_kingdoms, list_of_kingdom_names, starting_kingdom, adjacency_matrix = data_parser(input_data)\n",
    "            \n",
    "G, start_index = get_G(number_of_kingdoms, list_of_kingdom_names, starting_kingdom, adjacency_matrix)\n",
    "draw_graph(G)"
   ]
  },
  {
   "cell_type": "code",
   "execution_count": 23,
   "metadata": {
    "collapsed": false
   },
   "outputs": [
    {
     "data": {
      "text/plain": [
       "-1"
      ]
     },
     "execution_count": 23,
     "metadata": {},
     "output_type": "execute_result"
    }
   ],
   "source": [
    "from pycsa import CoupledAnnealer\n",
    "\n",
    "def distance(a, b):\n",
    "    try:\n",
    "        return G.get_edge_data(a, b)['weight']\n",
    "    except :\n",
    "        return -1\n",
    "\n",
    "distance(0, 1)"
   ]
  },
  {
   "cell_type": "code",
   "execution_count": null,
   "metadata": {
    "collapsed": true
   },
   "outputs": [],
   "source": []
  },
  {
   "cell_type": "code",
   "execution_count": null,
   "metadata": {
    "collapsed": true
   },
   "outputs": [],
   "source": []
  },
  {
   "cell_type": "code",
   "execution_count": null,
   "metadata": {
    "collapsed": true
   },
   "outputs": [],
   "source": []
  },
  {
   "cell_type": "code",
   "execution_count": null,
   "metadata": {
    "collapsed": true
   },
   "outputs": [],
   "source": []
  },
  {
   "cell_type": "code",
   "execution_count": null,
   "metadata": {
    "collapsed": true
   },
   "outputs": [],
   "source": []
  },
  {
   "cell_type": "code",
   "execution_count": 4,
   "metadata": {
    "collapsed": true
   },
   "outputs": [],
   "source": [
    "def get_G(number_of_kingdoms, list_of_kingdom_names, starting_kingdom, adjacency_matrix):\n",
    "    \n",
    "    name2index = {}\n",
    "    index2name = {}\n",
    "\n",
    "    count = 0\n",
    "    for name in list_of_kingdom_names:\n",
    "        name2index[name] = count\n",
    "        index2name[count] = name\n",
    "        count += 1\n",
    "\n",
    "    G = adjacency_matrix_to_graph(adjacency_matrix)\n",
    "    \n",
    "    color = {}\n",
    "\n",
    "    for node in G.nodes():\n",
    "            color[node] = \"white\"\n",
    "\n",
    "\n",
    "    conquering_cost = {}\n",
    "    for node in G.nodes():\n",
    "        conquering_cost[node] = adjacency_matrix[node][node]\n",
    "\n",
    "    nx.set_node_attributes(G, conquering_cost, \"conquering_cost\")\n",
    "    nx.set_node_attributes(G, color, \"color\")\n",
    "    \n",
    "    return G, name2index[starting_kingdom]"
   ]
  },
  {
   "cell_type": "code",
   "execution_count": 5,
   "metadata": {
    "collapsed": true
   },
   "outputs": [],
   "source": [
    "def draw_graph(G):\n",
    "    pos = nx.spring_layout(G)\n",
    "    labels = nx.get_edge_attributes(G,'weight')\n",
    "    plt.figure(3,figsize=(8,8)) \n",
    "    nx.draw_networkx_edge_labels(G,pos,edge_labels=labels)\n",
    "    nx.draw(G, pos, with_labels=True)"
   ]
  },
  {
   "cell_type": "code",
   "execution_count": null,
   "metadata": {
    "collapsed": true
   },
   "outputs": [],
   "source": []
  }
 ],
 "metadata": {
  "anaconda-cloud": {},
  "kernelspec": {
   "display_name": "Python [conda env:Python_3.6]",
   "language": "python",
   "name": "conda-env-Python_3.6-py"
  },
  "language_info": {
   "codemirror_mode": {
    "name": "ipython",
    "version": 3
   },
   "file_extension": ".py",
   "mimetype": "text/x-python",
   "name": "python",
   "nbconvert_exporter": "python",
   "pygments_lexer": "ipython3",
   "version": "3.6.2"
  }
 },
 "nbformat": 4,
 "nbformat_minor": 2
}
