{
 "cells": [
  {
   "cell_type": "code",
   "execution_count": null,
   "metadata": {
    "collapsed": false
   },
   "outputs": [],
   "source": [
    "import numpy as np\n",
    "from utils import *\n",
    "from student_utils_sp18 import *\n",
    "import networkx as nx\n",
    "%matplotlib inline\n",
    "print(\"networkx version: {}\".format(nx.__version__))"
   ]
  },
  {
   "cell_type": "code",
   "execution_count": null,
   "metadata": {
    "collapsed": false
   },
   "outputs": [],
   "source": [
    "# reading a file and get graph\n",
    "lines = read_file(\"data/sample_input.txt\")\n",
    "\n",
    "num_kingdoms, kingdom_names, start_kingdom, adj_matrix = data_parser(lines)\n",
    "\n",
    "# map kingdom names to indices\n",
    "name2index = {}\n",
    "index2name = {}\n",
    "\n",
    "count = 1\n",
    "for name in kingdom_names:\n",
    "    name2index[name] = count\n",
    "    index2name[count] = name\n",
    "    count += 1\n",
    "\n",
    "G = adjacency_matrix_to_graph(adj_matrix)\n",
    "\n",
    "G"
   ]
  },
  {
   "cell_type": "code",
   "execution_count": null,
   "metadata": {
    "collapsed": false,
    "scrolled": true
   },
   "outputs": [],
   "source": [
    "# initialize colors for each edge\n",
    "\n",
    "color = {}\n",
    "\n",
    "for node in G.nodes():\n",
    "        color[node] = \"white\"\n",
    "        \n",
    "        \n",
    "conquering_cost = {}\n",
    "for node in G.nodes():\n",
    "    conquering_cost[node] = adj_matrix[node][node]\n",
    "    \n",
    "nx.set_node_attributes(G, conquering_cost, \"conquering_cost\")\n",
    "nx.set_node_attributes(G, color, \"color\")\n",
    "# Example use G.node[1]['color'] gets the color of that node"
   ]
  },
  {
   "cell_type": "code",
   "execution_count": null,
   "metadata": {
    "collapsed": false
   },
   "outputs": [],
   "source": [
    "# calculate the heuristic for all nodes on the graph\n",
    "\n",
    "def conquer_gain(G, node):\n",
    "    \"\"\"Given a Graph and a node it calculates the value of the heuristic for the node\"\"\"\n",
    "    \"\"\"conquering_cost_neighbors/conquering_cost_current_node larger is better\"\"\"\n",
    "    \n",
    "    if G.node[node]['color'] ==\"black\": # do not calculate the heuristic for black nodes\n",
    "        return 0\n",
    "    else:\n",
    "        neighbors = nx.neighbors(G, node)\n",
    "        \n",
    "        neighbors_conquering_cost = 0\n",
    "        for n in neighbors:\n",
    "            neighbors_conquering_cost += G.node[n]['conquering_cost']\n",
    "        \n",
    "        return neighbors_conquering_cost/G.node[node]['conquering_cost']"
   ]
  },
  {
   "cell_type": "code",
   "execution_count": null,
   "metadata": {
    "collapsed": true
   },
   "outputs": [],
   "source": [
    "# update the colors in the graph\n",
    "\n",
    "def update_graph(G, node):\n",
    "    G.node[node]['color'] = \"black\"\n",
    "    neighbors = nx.neighbors(G, node)\n",
    "    \n",
    "    for n in neighbors:\n",
    "        if G.node[n]['color'] == \"white\":\n",
    "            G.node[n]['color'] = \"grey\"\n",
    "    return"
   ]
  },
  {
   "cell_type": "code",
   "execution_count": null,
   "metadata": {
    "collapsed": false
   },
   "outputs": [],
   "source": [
    "# find the the nodes that we need to visit based on heuristic\n",
    "\n",
    "def choose_node(G):\n",
    "    # calculate heuristic for everyone\n",
    "    heuristic_value = []\n",
    "\n",
    "    for node in G.nodes():\n",
    "        heuristic_value.append(conquer_gain(G, node))\n",
    "\n",
    "    chosen_node = np.argmax(heuristic_value)\n",
    "    return chosen_node\n",
    "\n",
    "def all_conquered(G):\n",
    "    lst = [l[1] for l in nx.get_node_attributes(G, \"color\").items()]\n",
    "    \n",
    "    return not \"white\" in lst"
   ]
  },
  {
   "cell_type": "code",
   "execution_count": null,
   "metadata": {
    "collapsed": true
   },
   "outputs": [],
   "source": [
    "# Identify components\n",
    "\n",
    "nodes_to_visit = []\n",
    "\n",
    "while not all_conquered(G):\n",
    "    next_node = choose_node(G)\n",
    "    nodes_to_visit.append(next_node)\n",
    "    update_graph(G, next_node)"
   ]
  },
  {
   "cell_type": "code",
   "execution_count": null,
   "metadata": {
    "collapsed": false
   },
   "outputs": [],
   "source": [
    "# another way to identify components using an approximation to the \n",
    "# min weight dominating set\n",
    "\n",
    "from networkx.algorithms.approximation import *\n",
    "\n",
    "min_weighted_dominating_set(G, \"conquering_cost\")"
   ]
  },
  {
   "cell_type": "code",
   "execution_count": null,
   "metadata": {
    "collapsed": false
   },
   "outputs": [],
   "source": [
    "# Get the Steiner Tree based on the nodes you have identofied\n",
    "from networkx.algorithms.traversal import *\n",
    "\n",
    "# GET THE FULL WALK\n",
    "\n",
    "start_index = name2index[start_kingdom]\n",
    "ST = steinertree.steiner_tree(G, nodes_to_visit+[start_index])"
   ]
  },
  {
   "cell_type": "code",
   "execution_count": null,
   "metadata": {
    "collapsed": false
   },
   "outputs": [],
   "source": [
    "# recover the order of traversal of the tree\n",
    "\n",
    "def find_traversal(tree, start_index):\n",
    "    \"\"\"Recovers the traversal of the Steiner tree using DFS (the full walk tho)\"\"\"\n",
    "    \n",
    "    vertex_order = list(dfs_preorder_nodes(tree, start_index))+[start_index]\n",
    "    current_node = start_index\n",
    "    full_walk = [start_index]\n",
    "\n",
    "    for next_node in vertex_order[1:]:\n",
    "        #print(current_node, next_node)\n",
    "        path = list(nx.all_simple_paths(tree, current_node, next_node))[0]\n",
    "        full_walk.extend(path[1:])\n",
    "        current_node = next_node\n",
    "    return full_walk"
   ]
  },
  {
   "cell_type": "code",
   "execution_count": null,
   "metadata": {
    "collapsed": false
   },
   "outputs": [],
   "source": [
    "traversal = find_traversal(ST, start_index)\n",
    "conquered = dict(zip(nodes_to_visit, [False]*len(nodes_to_visit)))\n",
    "to_conquer = []\n",
    "\n",
    "for n in traversal:\n",
    "    if n in nodes_to_visit and conquered[n] == False:\n",
    "        to_conquer.append(n)\n",
    "        conquered[n]=True\n",
    "        \n",
    "print(\"Traversal: {}\".format(traversal))\n",
    "print(\"To conquer: {}\".format(to_conquer))\n",
    "ccost = sum(G.node[i]['conquering_cost'] for i in to_conquer)\n",
    "tcost = sum(G.get_edge_data(traversal[i], traversal[i+1])['weight'] for i in range(len(traversal)-1))\n",
    "print(\"Cost of conquering: {}\".format(ccost))\n",
    "print(\"Cost of travelling: {}\".format(tcost))"
   ]
  },
  {
   "cell_type": "markdown",
   "metadata": {},
   "source": [
    "# Test run with Sue's input 1 file"
   ]
  },
  {
   "cell_type": "code",
   "execution_count": null,
   "metadata": {
    "collapsed": false
   },
   "outputs": [],
   "source": [
    "# reading a file and get graph\n",
    "lines = read_file(\"data/input1.txt\")\n",
    "\n",
    "num_kingdoms, kingdom_names, start_kingdom, adj_matrix = data_parser(lines)\n",
    "\n",
    "# map kingdom names to indices\n",
    "name2index = {}\n",
    "index2name = {}\n",
    "\n",
    "count = 1\n",
    "for name in kingdom_names:\n",
    "    name2index[name] = count\n",
    "    index2name[count] = name\n",
    "    count += 1\n",
    "\n",
    "\n",
    "G = adjacency_matrix_to_graph(adj_matrix)\n",
    "pos = nx.spring_layout(G)\n",
    "is_metric(G)\n",
    "\n",
    "labels = nx.get_edge_attributes(G,'weight')\n",
    "plt.figure(3,figsize=(8,8)) \n",
    "nx.draw_networkx_edge_labels(G,pos,edge_labels=labels)\n",
    "nx.draw(G, pos, with_labels=True)"
   ]
  },
  {
   "cell_type": "code",
   "execution_count": null,
   "metadata": {
    "collapsed": true
   },
   "outputs": [],
   "source": [
    "def solver(G, start_index):\n",
    "    # set the colors\n",
    "    color = {}\n",
    "\n",
    "    for node in G.nodes():\n",
    "            color[node] = \"white\"\n",
    "\n",
    "\n",
    "    conquering_cost = {}\n",
    "    for node in G.nodes():\n",
    "        conquering_cost[node] = adj_matrix[node][node]\n",
    "\n",
    "    nx.set_node_attributes(G, conquering_cost, \"conquering_cost\")\n",
    "    nx.set_node_attributes(G, color, \"color\")\n",
    "    \n",
    "    \n",
    "    # find nodes to visit\n",
    "    \n",
    "    nodes_to_visit = []\n",
    "\n",
    "    while not all_conquered(G):\n",
    "        next_node = choose_node(G)\n",
    "        nodes_to_visit.append(next_node)\n",
    "        update_graph(G, next_node)\n",
    "    \n",
    "    # Handle the edge case from below\n",
    "    if nodes_to_visit[0]==start_index:\n",
    "        return [start_index], [start_index]\n",
    "    \n",
    "    # get Steiner tree\n",
    "    # CURRENTLY HAS THE BUG THAT THE STEINER TREE DOES NOT WORK WHEN YOU ONLY HAVE 1 TARGET VERTEX\n",
    "    ST = steinertree.steiner_tree(G, set(nodes_to_visit+[start_index]))\n",
    "\n",
    "    # Find the traversal based on the Steiner tree\n",
    "    traversal = find_traversal(ST, start_index)\n",
    "    conquered = dict(zip(nodes_to_visit, [False]*len(nodes_to_visit)))\n",
    "    to_conquer = []\n",
    "\n",
    "    for n in traversal:\n",
    "        if n in nodes_to_visit and conquered[n] == False:\n",
    "            to_conquer.append(n)\n",
    "            conquered[n]=True\n",
    "            \n",
    "    return traversal, to_conquer"
   ]
  },
  {
   "cell_type": "code",
   "execution_count": null,
   "metadata": {
    "collapsed": false
   },
   "outputs": [],
   "source": [
    "solver(G, 2)"
   ]
  },
  {
   "cell_type": "code",
   "execution_count": null,
   "metadata": {
    "collapsed": false
   },
   "outputs": [],
   "source": [
    "for i in range(7):\n",
    "    print(\"Conquering cost {}: {}\".format(i, G.node[i]['conquering_cost']))"
   ]
  },
  {
   "cell_type": "code",
   "execution_count": null,
   "metadata": {
    "collapsed": false
   },
   "outputs": [],
   "source": [
    "plt.figure(3,figsize=(8,8)) \n",
    "nx.draw_networkx_edge_labels(G,pos,edge_labels=labels)\n",
    "nx.draw(G, pos, with_labels=True)"
   ]
  },
  {
   "cell_type": "code",
   "execution_count": null,
   "metadata": {
    "collapsed": false
   },
   "outputs": [],
   "source": [
    "# testing tree\n",
    "# tree = nx.Graph()\n",
    "# tree.add_node(1)\n",
    "# tree.add_node(2)\n",
    "# tree.add_node(3)\n",
    "# tree.add_node(4)\n",
    "\n",
    "# tree.add_edge(1,2)\n",
    "# tree.add_edge(1,3)\n",
    "# tree.add_edge(2,4)\n",
    "# tree.add_edge(2,5)\n",
    "# tree.add_edge(5, 6)\n",
    "\n",
    "# nx.draw(tree, with_labels=True)"
   ]
  },
  {
   "cell_type": "code",
   "execution_count": null,
   "metadata": {
    "collapsed": true
   },
   "outputs": [],
   "source": []
  }
 ],
 "metadata": {
  "anaconda-cloud": {},
  "kernelspec": {
   "display_name": "Python [default]",
   "language": "python",
   "name": "python3"
  },
  "language_info": {
   "codemirror_mode": {
    "name": "ipython",
    "version": 3
   },
   "file_extension": ".py",
   "mimetype": "text/x-python",
   "name": "python",
   "nbconvert_exporter": "python",
   "pygments_lexer": "ipython3",
   "version": "3.5.2"
  }
 },
 "nbformat": 4,
 "nbformat_minor": 2
}
