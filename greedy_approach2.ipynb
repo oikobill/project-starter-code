{
 "cells": [
  {
   "cell_type": "code",
   "execution_count": null,
   "metadata": {
    "collapsed": false
   },
   "outputs": [],
   "source": [
    "import numpy as np\n",
    "from utils import *\n",
    "from student_utils_sp18 import *\n",
    "import networkx as nx\n",
    "%matplotlib inline\n",
    "print(\"networkx version: {}\".format(nx.__version__))"
   ]
  },
  {
   "cell_type": "code",
   "execution_count": null,
   "metadata": {
    "collapsed": false
   },
   "outputs": [],
   "source": [
    "# reading a file and get graph\n",
    "lines = read_file(\"data/sample_input.txt\")\n",
    "\n",
    "num_kingdoms, kingdom_names, start_kingdom, adj_matrix = data_parser(lines)\n",
    "\n",
    "# map kingdom names to indices\n",
    "name2index = {}\n",
    "index2name = {}\n",
    "\n",
    "count = 1\n",
    "for name in kingdom_names:\n",
    "    name2index[name] = count\n",
    "    index2name[count] = name\n",
    "    count += 1\n",
    "\n",
    "G = adjacency_matrix_to_graph(adj_matrix)\n",
    "\n",
    "G"
   ]
  },
  {
   "cell_type": "code",
   "execution_count": null,
   "metadata": {
    "collapsed": false,
    "scrolled": true
   },
   "outputs": [],
   "source": [
    "# initialize colors for each edge\n",
    "\n",
    "color = {}\n",
    "\n",
    "for node in G.nodes():\n",
    "        color[node] = \"white\"\n",
    "        \n",
    "        \n",
    "conquering_cost = {}\n",
    "for node in G.nodes():\n",
    "    conquering_cost[node] = adj_matrix[node][node]\n",
    "    \n",
    "nx.set_node_attributes(G, conquering_cost, \"conquering_cost\")\n",
    "nx.set_node_attributes(G, color, \"color\")\n",
    "# Example use G.node[1]['color'] gets the color of that node"
   ]
  },
  {
   "cell_type": "code",
   "execution_count": null,
   "metadata": {
    "collapsed": false
   },
   "outputs": [],
   "source": [
    "# calculate the heuristic for all nodes on the graph\n",
    "\n",
    "def conquer_gain(G, node):\n",
    "    \"\"\"Given a Graph and a node it calculates the value of the heuristic for the node\"\"\"\n",
    "    \"\"\"conquering_cost_neighbors/conquering_cost_current_node larger is better\"\"\"\n",
    "    \n",
    "    if G.node[node]['color'] ==\"black\": # do not calculate the heuristic for black nodes\n",
    "        return 0\n",
    "    else:\n",
    "        neighbors = nx.neighbors(G, node)\n",
    "        \n",
    "        neighbors_conquering_cost = 0\n",
    "        for n in neighbors:\n",
    "            neighbors_conquering_cost += G.node[n]['conquering_cost']\n",
    "        \n",
    "        return neighbors_conquering_cost/G.node[node]['conquering_cost']"
   ]
  },
  {
   "cell_type": "code",
   "execution_count": null,
   "metadata": {
    "collapsed": true
   },
   "outputs": [],
   "source": [
    "# update the colors in the graph\n",
    "\n",
    "def update_graph(G, node):\n",
    "    G.node[node]['color'] = \"black\"\n",
    "    neighbors = nx.neighbors(G, node)\n",
    "    \n",
    "    for n in neighbors:\n",
    "        if G.node[n]['color'] == \"white\":\n",
    "            G.node[n]['color'] = \"grey\"\n",
    "    return"
   ]
  },
  {
   "cell_type": "code",
   "execution_count": null,
   "metadata": {
    "collapsed": false
   },
   "outputs": [],
   "source": [
    "# find the the nodes that we need to visit based on heuristic\n",
    "\n",
    "def choose_node(G):\n",
    "    # calculate heuristic for everyone\n",
    "    heuristic_value = []\n",
    "\n",
    "    for node in G.nodes():\n",
    "        heuristic_value.append(conquer_gain(G, node))\n",
    "\n",
    "    chosen_node = np.argmax(heuristic_value)\n",
    "    return chosen_node\n",
    "\n",
    "def all_conquered(G):\n",
    "    lst = [l[1] for l in nx.get_node_attributes(G, \"color\").items()]\n",
    "    \n",
    "    return not \"white\" in lst"
   ]
  },
  {
   "cell_type": "code",
   "execution_count": null,
   "metadata": {
    "collapsed": true
   },
   "outputs": [],
   "source": [
    "# Identify components\n",
    "\n",
    "nodes_to_visit = []\n",
    "\n",
    "while not all_conquered(G):\n",
    "    next_node = choose_node(G)\n",
    "    nodes_to_visit.append(next_node)\n",
    "    update_graph(G, next_node)"
   ]
  },
  {
   "cell_type": "code",
   "execution_count": null,
   "metadata": {
    "collapsed": false
   },
   "outputs": [],
   "source": [
    "# another way to identify components using an approximation to the \n",
    "# min weight dominating set\n",
    "\n",
    "from networkx.algorithms.approximation import *\n",
    "\n",
    "min_weighted_dominating_set(G, \"conquering_cost\")"
   ]
  },
  {
   "cell_type": "code",
   "execution_count": null,
   "metadata": {
    "collapsed": false
   },
   "outputs": [],
   "source": [
    "# Get the Steiner Tree based on the nodes you have identofied\n",
    "from networkx.algorithms.traversal import *\n",
    "\n",
    "# GET THE FULL WALK\n",
    "\n",
    "start_index = name2index[start_kingdom]\n",
    "ST = steinertree.steiner_tree(G, nodes_to_visit+[start_index])"
   ]
  },
  {
   "cell_type": "code",
   "execution_count": null,
   "metadata": {
    "collapsed": false
   },
   "outputs": [],
   "source": [
    "# recover the order of traversal of the tree\n",
    "\n",
    "def find_traversal(tree, start_index):\n",
    "    \"\"\"Recovers the traversal of the Steiner tree using DFS (the full walk tho)\"\"\"\n",
    "    \n",
    "    vertex_order = list(dfs_preorder_nodes(tree, start_index))+[start_index]\n",
    "    current_node = start_index\n",
    "    full_walk = [start_index]\n",
    "\n",
    "    for next_node in vertex_order[1:]:\n",
    "        #print(current_node, next_node)\n",
    "        path = list(nx.all_simple_paths(tree, current_node, next_node))[0]\n",
    "        full_walk.extend(path[1:])\n",
    "        current_node = next_node\n",
    "    return full_walk"
   ]
  },
  {
   "cell_type": "code",
   "execution_count": null,
   "metadata": {
    "collapsed": false
   },
   "outputs": [],
   "source": [
    "traversal = find_traversal(ST, start_index)\n",
    "conquered = dict(zip(nodes_to_visit, [False]*len(nodes_to_visit)))\n",
    "to_conquer = []\n",
    "\n",
    "for n in traversal:\n",
    "    if n in nodes_to_visit and conquered[n] == False:\n",
    "        to_conquer.append(n)\n",
    "        conquered[n]=True\n",
    "        \n",
    "print(\"Traversal: {}\".format(traversal))\n",
    "print(\"To conquer: {}\".format(to_conquer))\n",
    "ccost = sum(G.node[i]['conquering_cost'] for i in to_conquer)\n",
    "tcost = sum(G.get_edge_data(traversal[i], traversal[i+1])['weight'] for i in range(len(traversal)-1))\n",
    "print(\"Cost of conquering: {}\".format(ccost))\n",
    "print(\"Cost of travelling: {}\".format(tcost))"
   ]
  },
  {
   "cell_type": "markdown",
   "metadata": {},
   "source": [
    "# Test run with Sue's input 1 file"
   ]
  },
  {
   "cell_type": "code",
   "execution_count": null,
   "metadata": {
    "collapsed": false
   },
   "outputs": [],
   "source": [
    "# reading a file and get graph\n",
    "lines = read_file(\"data/input1.txt\")\n",
    "\n",
    "num_kingdoms, kingdom_names, start_kingdom, adj_matrix = data_parser(lines)\n",
    "\n",
    "# map kingdom names to indices\n",
    "name2index = {}\n",
    "index2name = {}\n",
    "\n",
    "count = 1\n",
    "for name in kingdom_names:\n",
    "    name2index[name] = count\n",
    "    index2name[count] = name\n",
    "    count += 1\n",
    "\n",
    "\n",
    "G = adjacency_matrix_to_graph(adj_matrix)\n",
    "pos = nx.spring_layout(G)\n",
    "is_metric(G)\n",
    "\n",
    "labels = nx.get_edge_attributes(G,'weight')\n",
    "plt.figure(3,figsize=(8,8)) \n",
    "nx.draw_networkx_edge_labels(G,pos,edge_labels=labels)\n",
    "nx.draw(G, pos, with_labels=True)"
   ]
  },
  {
   "cell_type": "code",
   "execution_count": null,
   "metadata": {
    "collapsed": true
   },
   "outputs": [],
   "source": [
    "def solver(G, start_index, adj_matrix):\n",
    "    \n",
    "    #adj_matrix = nx.adj_matrix(G).todense().tolist()\n",
    "    \n",
    "    # set the colors\n",
    "    color = {}\n",
    "\n",
    "    for node in G.nodes():\n",
    "            color[node] = \"white\"\n",
    "\n",
    "\n",
    "    conquering_cost = {}\n",
    "    for node in G.nodes():\n",
    "        conquering_cost[node] = adj_matrix[node][node]\n",
    "\n",
    "    nx.set_node_attributes(G, conquering_cost, \"conquering_cost\")\n",
    "    nx.set_node_attributes(G, color, \"color\")\n",
    "    \n",
    "    \n",
    "    # find nodes to visit\n",
    "    \n",
    "    nodes_to_visit = []\n",
    "\n",
    "    while not all_conquered(G):\n",
    "        next_node = choose_node(G)\n",
    "        nodes_to_visit.append(next_node)\n",
    "        update_graph(G, next_node)\n",
    "    \n",
    "    # Handle the edge case from below\n",
    "    if nodes_to_visit[0]==start_index:\n",
    "        return [start_index], [start_index]\n",
    "    \n",
    "    # get Steiner tree\n",
    "    # CURRENTLY HAS THE BUG THAT THE STEINER TREE DOES NOT WORK WHEN YOU ONLY HAVE 1 TARGET VERTEX\n",
    "    ST = steinertree.steiner_tree(G, set(nodes_to_visit+[start_index]))\n",
    "\n",
    "    # Find the traversal based on the Steiner tree\n",
    "    traversal = find_traversal(ST, start_index)\n",
    "    conquered = dict(zip(nodes_to_visit, [False]*len(nodes_to_visit)))\n",
    "    to_conquer = []\n",
    "\n",
    "    for n in traversal:\n",
    "        if n in nodes_to_visit and conquered[n] == False:\n",
    "            to_conquer.append(n)\n",
    "            conquered[n]=True\n",
    "            \n",
    "    return traversal, to_conquer"
   ]
  },
  {
   "cell_type": "code",
   "execution_count": null,
   "metadata": {
    "collapsed": false,
    "scrolled": true
   },
   "outputs": [],
   "source": [
    "solver(G, start_index, adj_matrix)"
   ]
  },
  {
   "cell_type": "code",
   "execution_count": null,
   "metadata": {
    "collapsed": false
   },
   "outputs": [],
   "source": [
    "for i in range(7):\n",
    "    print(\"Conquering cost {}: {}\".format(i, G.node[i]['conquering_cost']))"
   ]
  },
  {
   "cell_type": "code",
   "execution_count": null,
   "metadata": {
    "collapsed": false
   },
   "outputs": [],
   "source": [
    "# print total cost for the tour\n",
    "\n",
    "tour, conquer = solver(G, start_index, adj_matrix)\n",
    "\n",
    "def calculate_cost(tour, conquer, G):\n",
    "    cost = 0\n",
    "    for i in range(len(tour)-1):\n",
    "        cost += G.get_edge_data(tour[i], tour[i+1])['weight']\n",
    "\n",
    "    for i in conquer:\n",
    "        cost += G.node[i]['conquering_cost']\n",
    "        \n",
    "    return cost\n",
    "\n",
    "calculate_cost(tour, conquer, G)"
   ]
  },
  {
   "cell_type": "code",
   "execution_count": null,
   "metadata": {
    "collapsed": false
   },
   "outputs": [],
   "source": [
    "tour, conquer"
   ]
  },
  {
   "cell_type": "code",
   "execution_count": null,
   "metadata": {
    "collapsed": false
   },
   "outputs": [],
   "source": [
    "plt.figure(3,figsize=(8,8)) \n",
    "nx.draw_networkx_edge_labels(G,pos,edge_labels=labels)\n",
    "nx.draw(G, pos, with_labels=True)"
   ]
  },
  {
   "cell_type": "markdown",
   "metadata": {},
   "source": [
    "## Test with Sona's input"
   ]
  },
  {
   "cell_type": "code",
   "execution_count": null,
   "metadata": {
    "collapsed": true
   },
   "outputs": [],
   "source": [
    "adjacency_matrix = [[1, 4, 3, 'x'], \n",
    "                     [4, 1, 5, 13], \n",
    "                     [3, 5, 1, 12], \n",
    "                     ['x', 13, 12, 1]]"
   ]
  },
  {
   "cell_type": "code",
   "execution_count": null,
   "metadata": {
    "collapsed": false
   },
   "outputs": [],
   "source": [
    "G = adjacency_matrix_to_graph(adjacency_matrix)\n",
    "is_metric(G)\n",
    "\n",
    "def draw_graph(G):\n",
    "    pos = nx.spring_layout(G)\n",
    "    labels = nx.get_edge_attributes(G,'weight')\n",
    "    plt.figure(3,figsize=(8,8)) \n",
    "    nx.draw_networkx_edge_labels(G,pos,edge_labels=labels)\n",
    "    nx.draw(G, pos, with_labels=True)\n",
    "    \n",
    "nx.draw(G)"
   ]
  },
  {
   "cell_type": "code",
   "execution_count": null,
   "metadata": {
    "collapsed": false
   },
   "outputs": [],
   "source": [
    "tour, conquer = solver(G, 0, adjacency_matrix)"
   ]
  },
  {
   "cell_type": "code",
   "execution_count": null,
   "metadata": {
    "collapsed": false
   },
   "outputs": [],
   "source": [
    "calculate_cost(tour, conquer, G)"
   ]
  },
  {
   "cell_type": "markdown",
   "metadata": {},
   "source": [
    "### New input using random graphs"
   ]
  },
  {
   "cell_type": "code",
   "execution_count": null,
   "metadata": {
    "collapsed": true
   },
   "outputs": [],
   "source": [
    "# idea to generate graph:\n",
    "# 1. Make a random Erdos Renyi Graph\n",
    "# 2. Connect fully\n",
    "# 3. remove edges randomly"
   ]
  },
  {
   "cell_type": "code",
   "execution_count": null,
   "metadata": {
    "collapsed": false
   },
   "outputs": [],
   "source": [
    "Q = nx.erdos_renyi_graph(10,0.6)\n",
    "random_weights = np.random.randint(1, 10, len(Q.edges()))\n",
    "dicti = dict(zip(list(Q.edges()), random_weights))\n",
    "nx.set_edge_attributes(Q, dicti, \"weight\")"
   ]
  },
  {
   "cell_type": "code",
   "execution_count": null,
   "metadata": {
    "collapsed": false
   },
   "outputs": [],
   "source": [
    "# make the fully connected path\n",
    "# guarantees metric property\n",
    "\n",
    "for lst in list(nx.shortest_paths.all_pairs_bellman_ford_path_length(Q)):\n",
    "    start = lst[0]\n",
    "    targets = lst[1]\n",
    "    \n",
    "    for end in targets.keys():\n",
    "        if end!=start:\n",
    "            try:\n",
    "                Q.get_edge_data(start, end)['weight'] = targets[end]\n",
    "            except:\n",
    "                nx.set_edge_attributes(Q, {(start, end):targets[end]}, 'weight')\n",
    "                \n",
    "                \n",
    "# randomly drop edges from the graph"
   ]
  },
  {
   "cell_type": "code",
   "execution_count": null,
   "metadata": {
    "collapsed": false
   },
   "outputs": [],
   "source": [
    "for e in Q.edges():\n",
    "    weight = Q.get_edge_data(e[0], e[1])['weight']\n",
    "    if np.random.randn(0, 1)<0.8 and e not in nx.minimum_cut:\n",
    "        Q.remove(e[0], e[1])\n",
    "        \n",
    "    if not nx.is_connected(Q):\n",
    "        Q.add_edge(e[0], e[1], weight=weight)"
   ]
  },
  {
   "cell_type": "code",
   "execution_count": null,
   "metadata": {
    "collapsed": false
   },
   "outputs": [],
   "source": [
    "draw_graph(Q)"
   ]
  },
  {
   "cell_type": "code",
   "execution_count": null,
   "metadata": {
    "collapsed": false
   },
   "outputs": [],
   "source": [
    "start_index = np.random.choice(np.arange(0, 10))\n",
    "start_index"
   ]
  },
  {
   "cell_type": "code",
   "execution_count": null,
   "metadata": {
    "collapsed": false
   },
   "outputs": [],
   "source": [
    "# randomly assign vertex weights\n",
    "adj_matrix = nx.adj_matrix(Q).todense()\n",
    "vertex_weights = np.random.randint(1, 10, len(adj_matrix))\n",
    "adj_matrix[np.arange(len(adj_matrix)), np.arange(len(adj_matrix))] = vertex_weights\n",
    "adj_matrix"
   ]
  },
  {
   "cell_type": "code",
   "execution_count": null,
   "metadata": {
    "collapsed": false
   },
   "outputs": [],
   "source": [
    "tour, conquer = solver(Q, 0, adj_matrix.tolist())\n",
    "tour, conquer"
   ]
  },
  {
   "cell_type": "code",
   "execution_count": null,
   "metadata": {
    "collapsed": false
   },
   "outputs": [],
   "source": [
    "calculate_cost(tour, conquer, Q)"
   ]
  },
  {
   "cell_type": "code",
   "execution_count": null,
   "metadata": {
    "collapsed": false
   },
   "outputs": [],
   "source": [
    "draw_graph(Q)"
   ]
  },
  {
   "cell_type": "code",
   "execution_count": null,
   "metadata": {
    "collapsed": false
   },
   "outputs": [],
   "source": [
    "for i in range(len(Q.nodes)):\n",
    "    print(\"Conquering cost {}: {}\".format(i, Q.node[i]['conquering_cost']))"
   ]
  },
  {
   "cell_type": "markdown",
   "metadata": {},
   "source": [
    "### Generate a new tree"
   ]
  },
  {
   "cell_type": "code",
   "execution_count": null,
   "metadata": {
    "collapsed": false
   },
   "outputs": [],
   "source": [
    "# now try to generate a random tree\n",
    "from networkx.generators.trees import random_tree\n",
    "\n",
    "T = random_tree(10)\n",
    "random_weights_edge = np.random.randint(1, 10, len(T.edges()))\n",
    "random_weights_vertex = np.random.randint(1, 10, len(T.nodes()))\n",
    "\n",
    "nx.set_edge_attributes(T, dict(zip(T.edges, random_weights_edge)), 'weight')"
   ]
  },
  {
   "cell_type": "code",
   "execution_count": null,
   "metadata": {
    "collapsed": false
   },
   "outputs": [],
   "source": [
    "adj_matrix = nx.adj_matrix(T).todense()\n",
    "adj_matrix[range(len(adj_matrix)), range(len(adj_matrix))] = random_weights_vertex\n",
    "adj_matrix"
   ]
  },
  {
   "cell_type": "code",
   "execution_count": null,
   "metadata": {
    "collapsed": false
   },
   "outputs": [],
   "source": [
    "solver(T, start_index, adj_matrix.tolist())"
   ]
  },
  {
   "cell_type": "code",
   "execution_count": null,
   "metadata": {
    "collapsed": false,
    "scrolled": false
   },
   "outputs": [],
   "source": [
    "print(\"Start Index {}\".format(start_index))\n",
    "\n",
    "tour, conquer = solver(T, start_index, adj_matrix.tolist())\n",
    "\n",
    "for i in range(len(T.nodes)):\n",
    "    print(\"Conquering cost {}: {}\".format(i, T.node[i]['conquering_cost']))\n",
    "\n",
    "print(\"tour: {}\".format(tour))\n",
    "print(\"conquer: {}\".format(conquer))\n",
    "print(\"Total Cost {}\".format(calculate_cost(tour, conquer, T)))\n",
    "draw_graph(T)"
   ]
  },
  {
   "cell_type": "markdown",
   "metadata": {},
   "source": [
    "Algo not so good in this case, need to find a good algo for weighted dominating set on tree.\n",
    "A takeway is that in the case of very sparse stuff we don't need heuristics but more precise choice of vertices.\n",
    "There actually exists a DP solution to weighted vertex cover for Trees.\n",
    "I can check whether it is near-tree through the # of edges."
   ]
  },
  {
   "cell_type": "markdown",
   "metadata": {},
   "source": [
    "### Sparse graph oriented algorithm\n",
    "\n",
    "For trees we do have dp algorithms that can solve min edge, vertex dominating set. If you have something that is very loosely connected you can try removing very heavy edges until it is a tree and then potentially run that algorithm on it. \n",
    "\n",
    "Another option would be to find an mst (isn't that what the above thing is tho) and then run the algo on it. \n",
    "\n",
    "I get it but implementation is a little tricky http://courses.csail.mit.edu/6.006/fall09/lecture_notes/lecture21.pdf"
   ]
  },
  {
   "cell_type": "code",
   "execution_count": null,
   "metadata": {
    "collapsed": false
   },
   "outputs": [],
   "source": [
    "def sparse_graph_algo(T, start_index):\n",
    "    \"\"\"OMG what the fuck did I just code up. AAAAARGH\"\"\"\n",
    "    \n",
    "    \"\"\"\n",
    "    This is a DP algorithm that given a tree calculate sthe \n",
    "    There are two cases:\n",
    "\n",
    "    a) Root belongs to the vertex cover or it doesn't. In this case do 1 + size of left + size of right\n",
    "\n",
    "    DP(v) = min. dom. set for subtree rooted at v\n",
    "    DP'(v) = min. dom. set for subtree rooted at v not requiring v\n",
    "\n",
    "    recursion\n",
    "\n",
    "    DP(v) = min{1 + sum(DP'(c) for c in children[v]), # YES, DOMINATE the root v\n",
    "                min_children{1 + sum(DP'(g) for g in children(d)) + sum(DP[c] for c new d in children[v])}}\n",
    "\n",
    "    DP'(v) = min{1 + sum(DP'(c) for children[v]),\n",
    "                 sum(DP[c] for c in children[v])}\n",
    "\n",
    "\n",
    "    # I guess build everything up in post order\n",
    "    \"\"\"\n",
    "    \n",
    "    root = find_leaves(T)[0]\n",
    "\n",
    "    T_prime = dfs_tree(T, root)\n",
    "\n",
    "    post_order = list(dfs_postorder_nodes(T, root)) # using post order to traverse the nodes so leaves are up first\n",
    "\n",
    "\n",
    "    dp = np.zeros(len(T.nodes))-1\n",
    "    dp_prime = np.zeros(len(T.nodes))-1\n",
    "\n",
    "    def is_leaf(node, T):\n",
    "        return T.out_degree(node)==0 and T.in_degree(node)==1\n",
    "\n",
    "    # establish the based cases for the two problems for the leaf nodes\n",
    "    for ix in range(len(post_order)):\n",
    "        node = post_order[ix]\n",
    "\n",
    "        if is_leaf(node, T_prime):\n",
    "            dp[ix] = 1 # start it easy and then change to accomodate weights\n",
    "            dp_prime[ix] = 0\n",
    "\n",
    "    # now let's build from the bottom up\n",
    "\n",
    "    conquer = []\n",
    "\n",
    "    for ix in range(len(post_order)):\n",
    "        if dp[ix]!=-1:\n",
    "            pass\n",
    "        else:\n",
    "            v = post_order[ix]\n",
    "            #print(ix, v)\n",
    "            children = list(T_prime.neighbors(v))\n",
    "            children_ix = [post_order.index(c) for c in children]\n",
    "            #print(children)\n",
    "\n",
    "            ####### DP(v) UPDATE #########\n",
    "            cost = T.node[v]['conquering_cost']\n",
    "\n",
    "            if is_leaf(v, T_prime):\n",
    "                parent = list(T_prime.predecessors(v))[0]\n",
    "                cost += 2*T.get_edge_data(parent, v)['weight']\n",
    "\n",
    "            # left part\n",
    "            left = cost + sum([dp_prime[i] for i in children_ix]) #1 + sum(DP'(c) for c in children[v])\n",
    "\n",
    "            # right part\n",
    "            vals = []\n",
    "\n",
    "            for d in children_ix:\n",
    "                children2 = list(T_prime.neighbors(post_order[d]))\n",
    "                children_ix2 = [post_order.index(c) for c in children2]\n",
    "                cost2 = T.node[post_order[d]]['conquering_cost']\n",
    "\n",
    "                if is_leaf(d, T_prime):\n",
    "                    parent2 = list(T_prime.predecessors(d))[0]\n",
    "                    cost2 += 2*T.get_edge_data(parent2, d)['weight']\n",
    "\n",
    "                #print(c)\n",
    "                #print(sum([dp[c] for i in children_ix if i!= d]))\n",
    "                vals.append(cost2 + sum([dp_prime[i] for i in children_ix2]) + sum([dp[i] for i in children_ix if i!= d]))\n",
    "            \n",
    "            #print(vals)\n",
    "            right = min(vals)\n",
    "\n",
    "            dp[ix] = min(left, right)\n",
    "\n",
    "            if left<right:\n",
    "                conquer.append(post_order[ix])\n",
    "                #print(post_order[ix])\n",
    "\n",
    "            ####### DP'(v) UPDATE #########\n",
    "\n",
    "            dp_prime[ix] = min(cost + sum([dp_prime[c] for c in children_ix]), sum([dp[c] for c in children_ix]))\n",
    "\n",
    "            # store the result\n",
    "            if dp_prime[ix] == cost + sum([dp_prime[c] for c in children_ix]):\n",
    "                conquer.append(post_order[ix])\n",
    "                #print(post_order[ix])\n",
    "\n",
    "    conquer = list(set(conquer))\n",
    "    \n",
    "    # need to find a way to do the tour on the tree idk why but find_traversal does not work\n",
    "    ST = steinertree.steiner_tree(T, conquer+[start_index])\n",
    "    traversal = find_traversal(ST, start_index)\n",
    "    return traversal, conquer\n",
    "\n",
    "t, c = sparse_graph_algo(T, 8)\n",
    "calculate_cost(t, c, T)"
   ]
  },
  {
   "cell_type": "code",
   "execution_count": null,
   "metadata": {
    "collapsed": false
   },
   "outputs": [],
   "source": [
    "# find mst first and the traversal, then decide efficiently which ones to conquer\n",
    "from networkx.algorithms.tree.mst import minimum_spanning_tree\n",
    "\n",
    "new= minimum_spanning_tree(T, weight=\"weight\").nodes()"
   ]
  },
  {
   "cell_type": "code",
   "execution_count": null,
   "metadata": {
    "collapsed": false
   },
   "outputs": [],
   "source": [
    "draw_graph(T)"
   ]
  },
  {
   "cell_type": "code",
   "execution_count": null,
   "metadata": {
    "collapsed": false
   },
   "outputs": [],
   "source": [
    "# implementation of a min vertex cover. \n",
    "def find_leaves(G):\n",
    "    leaves = []\n",
    "    for n in G.nodes():\n",
    "        if G.degree(n)==1:\n",
    "            leaves.append(n)\n",
    "    return leaves\n",
    "\n",
    "\n",
    "def find_leaves_with_parent(parent, leaves, G):\n",
    "    lst = []\n",
    "    \n",
    "    for leaf in leaves:\n",
    "        if parent == list(T_prime.neighbors(leaf))[0]:\n",
    "            lst.append(leaf)\n",
    "    return lst\n",
    "\n",
    "\n",
    "\n",
    "# testing tree\n",
    "# tree = nx.Graph()\n",
    "# tree.add_node(1)\n",
    "# tree.add_node(2)\n",
    "# tree.add_node(3)\n",
    "# tree.add_node(4)\n",
    "\n",
    "# tree.add_edge(1,2)\n",
    "# tree.add_edge(1,3)\n",
    "# tree.add_edge(2,4)\n",
    "# tree.add_edge(2,5)\n",
    "# tree.add_edge(5, 6)\n",
    "\n",
    "# nx.draw(tree, with_labels=True)"
   ]
  },
  {
   "cell_type": "code",
   "execution_count": null,
   "metadata": {
    "collapsed": true
   },
   "outputs": [],
   "source": []
  }
 ],
 "metadata": {
  "anaconda-cloud": {},
  "kernelspec": {
   "display_name": "Python [default]",
   "language": "python",
   "name": "python3"
  },
  "language_info": {
   "codemirror_mode": {
    "name": "ipython",
    "version": 3
   },
   "file_extension": ".py",
   "mimetype": "text/x-python",
   "name": "python",
   "nbconvert_exporter": "python",
   "pygments_lexer": "ipython3",
   "version": "3.5.2"
  }
 },
 "nbformat": 4,
 "nbformat_minor": 2
}
