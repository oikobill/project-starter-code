{
  "nbformat": 4,
  "nbformat_minor": 0,
  "metadata": {
    "colab": {
      "name": "170-kingdoms.ipynb",
      "version": "0.3.2",
      "views": {},
      "default_view": {},
      "provenance": [],
      "collapsed_sections": []
    }
  },
  "cells": [
    {
      "metadata": {
        "id": "MP2Lo_3D6LVg",
        "colab_type": "code",
        "colab": {
          "autoexec": {
            "startup": false,
            "wait_interval": 0
          }
        }
      },
      "cell_type": "code",
      "source": [
        "import numpy as np\n",
        "import networkx as nx"
      ],
      "execution_count": 0,
      "outputs": []
    },
    {
      "metadata": {
        "id": "dPTrMNPD6UkG",
        "colab_type": "code",
        "colab": {
          "autoexec": {
            "startup": false,
            "wait_interval": 0
          }
        }
      },
      "cell_type": "code",
      "source": [
        "G=nx.Graph()"
      ],
      "execution_count": 0,
      "outputs": []
    },
    {
      "metadata": {
        "id": "h9z7SCRP9DLI",
        "colab_type": "code",
        "colab": {
          "autoexec": {
            "startup": false,
            "wait_interval": 0
          }
        }
      },
      "cell_type": "code",
      "source": [
        "G.add_nodes_from([1, 2, 3, 4, 5])\n",
        "G.add_weighted_edges_from([(1,2,5), (2, 3, 3), (3, 4, 2), (4, 5, 8), (5, 1, 5), (2, 4, 2)])"
      ],
      "execution_count": 0,
      "outputs": []
    },
    {
      "metadata": {
        "id": "KfdJLZbe9O1m",
        "colab_type": "code",
        "colab": {
          "autoexec": {
            "startup": false,
            "wait_interval": 0
          },
          "base_uri": "https://localhost:8080/",
          "height": 444
        },
        "outputId": "7c08da00-d52b-4baa-86e8-7625c8f4a827",
        "executionInfo": {
          "status": "ok",
          "timestamp": 1523401263518,
          "user_tz": 420,
          "elapsed": 571,
          "user": {
            "displayName": "SUBHIKSHA MANI",
            "photoUrl": "//lh4.googleusercontent.com/-O5iNWhJ9WXU/AAAAAAAAAAI/AAAAAAAAAHw/7TWF-enmMfk/s50-c-k-no/photo.jpg",
            "userId": "111923767635972383152"
          }
        }
      },
      "cell_type": "code",
      "source": [
        "nx.draw(G)"
      ],
      "execution_count": 4,
      "outputs": [
        {
          "output_type": "display_data",
          "data": {
            "image/png": "[encoded data removed]",
            "text/plain": [
              "<matplotlib.figure.Figure at 0x7f50845dc050>"
            ]
          },
          "metadata": {
            "tags": []
          }
        }
      ]
    },
    {
      "metadata": {
        "id": "fQBJ3btPlSWY",
        "colab_type": "text"
      },
      "cell_type": "markdown",
      "source": [
        "Process Data from the input file"
      ]
    },
    {
      "metadata": {
        "id": "Mq0AhXd9lVNz",
        "colab_type": "code",
        "colab": {
          "autoexec": {
            "startup": false,
            "wait_interval": 0
          }
        }
      },
      "cell_type": "code",
      "source": [
        "file = ...\n",
        "kingdoms = ..\n",
        "starting_kingdom = .. \n",
        "adjacency_matrix = ...\n"
      ],
      "execution_count": 0,
      "outputs": []
    },
    {
      "metadata": {
        "id": "85HGHygtm12L",
        "colab_type": "text"
      },
      "cell_type": "markdown",
      "source": [
        "Greedy Heuristic Algorithm:"
      ]
    },
    {
      "metadata": {
        "id": "QebdFjcRMHbx",
        "colab_type": "code",
        "colab": {
          "autoexec": {
            "startup": false,
            "wait_interval": 0
          }
        }
      },
      "cell_type": "code",
      "source": [
        "  nodes = np.arange(0, len(G))\n",
        "  nodes_str = ''.join([str(x) for x in nodes])"
      ],
      "execution_count": 0,
      "outputs": []
    },
    {
      "metadata": {
        "id": "izgQ1dQcmHAN",
        "colab_type": "code",
        "colab": {
          "autoexec": {
            "startup": false,
            "wait_interval": 0
          }
        },
        "cellView": "both"
      },
      "cell_type": "code",
      "source": [
        "#@title Greedy approach 1\n"
      ],
      "execution_count": 0,
      "outputs": []
    },
    {
      "metadata": {
        "id": "hBGtq4FGL1Em",
        "colab_type": "code",
        "colab": {
          "autoexec": {
            "startup": false,
            "wait_interval": 0
          }
        }
      },
      "cell_type": "code",
      "source": [
        "from networkx.algorithms.approximation import *"
      ],
      "execution_count": 0,
      "outputs": []
    },
    {
      "metadata": {
        "id": "ZWn-xCziL672",
        "colab_type": "code",
        "colab": {
          "autoexec": {
            "startup": false,
            "wait_interval": 0
          },
          "base_uri": "https://localhost:8080/",
          "height": 34
        },
        "outputId": "71286032-d9bb-4ddd-dde1-f82002142cb2",
        "executionInfo": {
          "status": "ok",
          "timestamp": 1523414359502,
          "user_tz": 420,
          "elapsed": 881,
          "user": {
            "displayName": "SUBHIKSHA MANI",
            "photoUrl": "//lh4.googleusercontent.com/-O5iNWhJ9WXU/AAAAAAAAAAI/AAAAAAAAAHw/7TWF-enmMfk/s50-c-k-no/photo.jpg",
            "userId": "111923767635972383152"
          }
        }
      },
      "cell_type": "code",
      "source": [
        "import networkx\n",
        "networkx.__version__"
      ],
      "execution_count": 37,
      "outputs": [
        {
          "output_type": "execute_result",
          "data": {
            "text/plain": [
              "'2.1'"
            ]
          },
          "metadata": {
            "tags": []
          },
          "execution_count": 37
        }
      ]
    },
    {
      "metadata": {
        "id": "vsaHyBkbmHKj",
        "colab_type": "code",
        "colab": {
          "autoexec": {
            "startup": false,
            "wait_interval": 0
          }
        }
      },
      "cell_type": "code",
      "source": [
        "# def get_shortest_path():\n",
        "#   G = nx.from_numpy_matrix(A, create_using=nx.DiGraph())\n",
        "#   return(nx.dijkstra_path(G, 0, 1))"
      ],
      "execution_count": 0,
      "outputs": []
    },
    {
      "metadata": {
        "id": "6QTMspjAeOWy",
        "colab_type": "code",
        "colab": {
          "autoexec": {
            "startup": false,
            "wait_interval": 0
          }
        }
      },
      "cell_type": "code",
      "source": [
        "#Helper Function:\n",
        "\n",
        "def get_neighbors(adjacency_matrix, node_index):\n",
        "  \"\"\"Func to return indices of the neighbors.. parameters are adjacency matrix and node index.\"\"\"\n",
        "  row_dictionary = adjacency_matrix[node_index]\n",
        "  neighbor_indices = []\n",
        "  for i in range(len(row_dictionary) - 1):\n",
        "    if (row_dictionary[i] > 0) & (i!=node_index): #check i != node_index because there will be a nonzero element representing the conquering cost.\n",
        "      neighbor_indices = neighbor_indices + [i]\n",
        "  return neighbor_indices \n",
        "\n"
      ],
      "execution_count": 0,
      "outputs": []
    },
    {
      "metadata": {
        "id": "H0fbvqo2e73a",
        "colab_type": "code",
        "colab": {
          "autoexec": {
            "startup": false,
            "wait_interval": 0
          }
        }
      },
      "cell_type": "code",
      "source": [
        "#Helper Function:\n",
        "\n",
        "def get_travel_cost(adjacency_matrix, path_indices):\n",
        "  \"\"\"Get the cost to take a given path, ignore the conquer costs... just count the edge costs.\"\"\"\n",
        "  total_cost = 0\n",
        "  #pairwise iteration through path\n",
        "  for i in range(len(path_indices) - 1):\n",
        "    pair_cost = adjacency_matrix[i][i+1]\n",
        "    total_cost = total_cost + pair_cost\n",
        "  return total_cost"
      ],
      "execution_count": 0,
      "outputs": []
    },
    {
      "metadata": {
        "id": "syPWobVUEs3g",
        "colab_type": "code",
        "colab": {
          "autoexec": {
            "startup": false,
            "wait_interval": 0
          }
        }
      },
      "cell_type": "code",
      "source": [
        "import numpy as np\n",
        "def get_shortest_path(G, source, dest):\n",
        "  source = str(source)\n",
        "  dest = str(dest)\n",
        "  nodes = np.arange(0, len(G))\n",
        "  nodes = ''.join([str(x) for x in nodes])\n",
        "  p=[[source]]\n",
        "  flag=0\n",
        "\n",
        "  while p:                          # evaluates to true if p not empty\n",
        "      x = p.pop(0)\n",
        "      j = nodes.index(x[-1])        # use [-1] to get last element\n",
        "      if nodes[j] == dest:             # by moving this check out of the loop...\n",
        "          break                     # ...you can use break and don't need flag\n",
        "      for i, e in enumerate(nodes): # enumerate gives (index, element)\n",
        "          if graph[j][i] and e not in x: # a bit more concise\n",
        "              p.append(x + [e]) \n",
        "  return [int(elem) for elem in x]\n",
        "\n",
        "graph=  [#a,b,c,d,e,f,g,h,i,j\n",
        "     [0,1,1,1,1,0,0,0,0,0],  #a\n",
        "     [1,0,0,1,0,0,1,0,0,0],  #b\n",
        "     [1,0,0,1,0,0,0,0,0,0],  #c\n",
        "     [1,1,1,0,0,0,0,1,0,0],  #d\n",
        "     [1,0,0,0,0,1,0,1,1,0],  #e\n",
        "     [0,0,0,0,1,0,0,1,1,0],  #f\n",
        "     [0,1,0,0,0,0,0,1,1,1],  #g\n",
        "     [0,0,0,1,1,1,1,0,1,0],  #h\n",
        "     [0,0,0,0,1,1,1,1,0,1],  #i\n",
        "     [0,0,0,0,0,0,1,0,1,0],  #j\n",
        "    ]"
      ],
      "execution_count": 0,
      "outputs": []
    },
    {
      "metadata": {
        "id": "AWQuTTL1wd2D",
        "colab_type": "code",
        "colab": {
          "autoexec": {
            "startup": false,
            "wait_interval": 0
          }
        }
      },
      "cell_type": "code",
      "source": [
        "def solve(list_of_kingdom_names, starting_kingdom, adjacency_matrix, params=[]):\n",
        "    \"\"\"\n",
        "    Write your algorithm here.\n",
        "    Input:\n",
        "        list_of_kingdom_names: An list of kingdom names such that node i of the graph corresponds to name index i in the list\n",
        "        starting_kingdom: The name of the starting kingdom for the walk\n",
        "        adjacency_matrix: The adjacency matrix from the input file\n",
        "\n",
        "    Output:\n",
        "        Return 2 things. The first is a list of kingdoms representing the walk, and the second is the set of kingdoms that are conquered\n",
        "    \"\"\"\n",
        "    \n",
        "    index_to_name_map = {i:x for i,x in enumerate(list_of_kingdom_names)}\n",
        "    name_to_index_map = {x:i for i,x in enumerate(list_of_kingdom_names)}\n",
        "    conquered_nodes = np.array([]) #names\n",
        "    surrendered_nodes = set() #names\n",
        "    closed_walk = np.array([name_to_index_map[starting_kingdom]]) #initially filled with index values\n",
        "    current_node = starting_kingdom\n",
        "\n",
        "    #Keep iterating until we conquer and surrender everything.\n",
        "    while (len(conquered_nodes) + len(surrendered_nodes))< len(list_of_kingdom_names):\n",
        "      \n",
        "      not_conquered_names = np.setdiff1d(list_of_kingdom_names, conquered_nodes) \n",
        "      #print(not_conquered_names)\n",
        "      heuristic_values = {}\n",
        "      \n",
        "      #Calculate heuristic values for unconquered nodes\n",
        "      for node in not_conquered_names:\n",
        "        node_neighbor_indicies = get_neighbors(adjacency_matrix, name_to_index_map[node]) # DONE\n",
        "        unvisited_node_neighbors = np.intersect1d(np.setdiff1d(node_neighbor_indicies, conquered_nodes), np.setdiff1d(node_neighbor_indicies, conquered_nodes))#Calculates neighbors that have not been surrendered/conquered\n",
        "        conquering_neighbors_gain = sum([adjacency_matrix[i][i] for i in unvisited_node_neighbors])\n",
        "        shortest_path = get_shortest_path(adjacency_matrix, str(name_to_index_map[current_node]), str(name_to_index_map[node])) #TODO SUE shortest path.. dont worry about conquer costs.\n",
        "        travel_cost = get_travel_cost(adjacency_matrix, shortest_path) #DONE\n",
        "        conquer_cost = adjacency_matrix[name_to_index_map[node]][name_to_index_map[node]] \n",
        "        node_heuristic = conquering_neighbors_gain/(travel_cost + conquer_cost)\n",
        "        heuristic_values[node] = node_heuristic\n",
        "      \n",
        "      #Based on heurstics, find conquer the node with largest gain\n",
        "      node_to_conquer = max(heuristic_values, key=heuristic_values.get) #name of node to conquer\n",
        "      surrendered_nodes.update(get_neighbors(adjacency_matrix, name_to_index_map[node_to_conquer]))\n",
        "      conquered_nodes = np.append(conquered_nodes, node_to_conquer)\n",
        "      shortest_path = get_shortest_path(adjacency_matrix, name_to_index_map[current_node], name_to_index_map[node_to_conquer])\n",
        "      closed_walk = np.append(closed_walk, shortest_path[1:]) #add the nodes along the path to the walk. careful to not repeat vertices\n",
        "      current_node = node_to_conquer\n",
        "    \n",
        "    #Once all nodes conquered or surrendered, take the shortest path back\n",
        "    shortest_path_back = get_shortest_path(adjacency_matrix, name_to_index_map[current_node], name_to_index_map[starting_kingdom])\n",
        "    closed_walk = np.append(closed_walk, shortest_path_back[1:])\n",
        "    closed_walk = np.array([index_to_name_map[i] for i in closed_walk]) #convert walk into names\n",
        "    print(closed_walk)\n",
        "    return list(closed_walk), conquered_nodes\n",
        "\n"
      ],
      "execution_count": 0,
      "outputs": []
    },
    {
      "metadata": {
        "id": "JGdqJAbbiF0z",
        "colab_type": "text"
      },
      "cell_type": "markdown",
      "source": [
        "Testing the function"
      ]
    },
    {
      "metadata": {
        "id": "VwzEZK7ppfPQ",
        "colab_type": "code",
        "colab": {
          "autoexec": {
            "startup": false,
            "wait_interval": 0
          },
          "base_uri": "https://localhost:8080/",
          "height": 51
        },
        "outputId": "8035ae8e-fcd4-42d7-857e-cc1f29eb3eab",
        "executionInfo": {
          "status": "ok",
          "timestamp": 1523503845759,
          "user_tz": 420,
          "elapsed": 309,
          "user": {
            "displayName": "SHRISHTI JESWANI",
            "photoUrl": "//lh6.googleusercontent.com/-F3-bqFzSmIM/AAAAAAAAAAI/AAAAAAAAAGE/5BiAcZEFhzA/s50-c-k-no/photo.jpg",
            "userId": "108242849243362307040"
          }
        }
      },
      "cell_type": "code",
      "source": [
        "#Small Example:\n",
        "list_of_kingdom_names = [\"A\", \"B\", \"C\", \"D\"]\n",
        "starting_kingdom = \"A\"\n",
        "adjacency_matrix = [[1, 4, 3, -1], \n",
        "                     [4, 1, 5, 13], \n",
        "                     [3, 5, 1, 12], \n",
        "                     [-1, 13, 12, 1]]\n",
        "solve(list_of_kingdom_names, starting_kingdom, adjacency_matrix, params=[])"
      ],
      "execution_count": 77,
      "outputs": [
        {
          "output_type": "stream",
          "text": [
            "['A' 'C' 'A']\n"
          ],
          "name": "stdout"
        },
        {
          "output_type": "execute_result",
          "data": {
            "text/plain": [
              "(['A', 'C', 'A'], array(['A', 'C'], dtype='|S32'))"
            ]
          },
          "metadata": {
            "tags": []
          },
          "execution_count": 77
        }
      ]
    },
    {
      "metadata": {
        "id": "_AsrOqdD5D6a",
        "colab_type": "code",
        "colab": {
          "autoexec": {
            "startup": false,
            "wait_interval": 0
          },
          "base_uri": "https://localhost:8080/",
          "height": 51
        },
        "outputId": "382a2fb5-c393-4049-e352-111a7fcdf2e2",
        "executionInfo": {
          "status": "ok",
          "timestamp": 1523503865702,
          "user_tz": 420,
          "elapsed": 309,
          "user": {
            "displayName": "SHRISHTI JESWANI",
            "photoUrl": "//lh6.googleusercontent.com/-F3-bqFzSmIM/AAAAAAAAAAI/AAAAAAAAAGE/5BiAcZEFhzA/s50-c-k-no/photo.jpg",
            "userId": "108242849243362307040"
          }
        }
      },
      "cell_type": "code",
      "source": [
        "#Input 1:\n",
        "list_of_kingdom_names = [\"A\", \"B\", \"C\", \"D\", \"E\", \"F\", \"G\"]\n",
        "starting_kingdom = \"A\"\n",
        "adjacency_matrix = [[1.0, 4.0, 3.0, -1, 1, 1.0, 2],\n",
        "[4.0, 1.0, 5.0, 4, 3.0, 4.0, 5.0],\n",
        "[3.0, 5.0, 1.0, 5, 4.0, 4, 2.0],\n",
        "[-1, 4, 5, 1.0, 2.0, 2, 3],\n",
        "[1, 3.0, 4.0, 2.0, 5, 1.0, 2],\n",
        "[1.0, 4.0, 4, 2, 1.0, 8.0, 3.0],\n",
        "[2, 5.0, 2.0, 3, 2, 3.0, 2.0]]\n",
        "solve(list_of_kingdom_names, starting_kingdom, adjacency_matrix, params=[])"
      ],
      "execution_count": 79,
      "outputs": [
        {
          "output_type": "stream",
          "text": [
            "['A' 'C' 'A']\n"
          ],
          "name": "stdout"
        },
        {
          "output_type": "execute_result",
          "data": {
            "text/plain": [
              "(['A', 'C', 'A'], array(['A', 'C'], dtype='|S32'))"
            ]
          },
          "metadata": {
            "tags": []
          },
          "execution_count": 79
        }
      ]
    },
    {
      "metadata": {
        "id": "YsXxY_dN18mD",
        "colab_type": "code",
        "colab": {
          "autoexec": {
            "startup": false,
            "wait_interval": 0
          }
        }
      },
      "cell_type": "code",
      "source": [
        "import numpy as np\n",
        "\n",
        "N = 12\n",
        "b = np.random.random_integers(-15,15,size=(N,N))\n",
        "b_symm = (b + b.T)/2\n",
        "b_symm"
      ],
      "execution_count": 0,
      "outputs": []
    },
    {
      "metadata": {
        "id": "gRAOGUN1iB_K",
        "colab_type": "code",
        "colab": {
          "autoexec": {
            "startup": false,
            "wait_interval": 0
          }
        }
      },
      "cell_type": "code",
      "source": [
        "list_of_kingdom_names1 = [\"A\", \"B\", \"C\", \"D\", \"E\", \"F\", \"G\"]\n",
        "starting_kingdom1 = \"A\"\n",
        "adjacency_matrix1 = [[1, 4, 3, -1, 2, 1, 2], \n",
        "                     [4, 1, 5, 13, 4, 3, 4], \n",
        "                     [3, 5, 1, 12, 3, 4, 7], \n",
        "                     [-1, 13, 12, 1, 2, 10, 1],\n",
        "                     [2, 3, 4, 2, -1, 12, 3],\n",
        "                     [1, 4, 5, 8, 1, 8, 3],\n",
        "                     [9, 5, 2, 9, 1, 3, 2]]\n",
        "\n",
        "\n",
        "\n",
        "10\n",
        "A B C D E F G H I J\n",
        "A\n",
        "1.0 4.0 3.0 x 1 1.0 2 3 4 3\n",
        "4.0 1.0 5.0 4 3.0 4.0 5.0 6 5 9\n",
        "3.0 5.0 1.0 5 4.0 4 2.0 4 9 4\n",
        "x 4 5 1.0 2.0 2 3 2 10 8\n",
        "1 3.0 4.0 2.0 5 1.0 2 8 1 2\n",
        "1.0 4.0 4 2 1.0 8.0 3.0 4 2 1\n",
        "2 5.0 2.0 3 2 3.0 2.0 6 4 5\n",
        "3 6 4 3 8 4 6 9 8 8\n",
        "4 5 9 10 1 2 4 8 5 4\n",
        "3 9 4 8 2 1 5 8 4 7\n",
        "\n"
      ],
      "execution_count": 0,
      "outputs": []
    },
    {
      "metadata": {
        "id": "KUwjpugeQb-U",
        "colab_type": "code",
        "colab": {
          "autoexec": {
            "startup": false,
            "wait_interval": 0
          }
        }
      },
      "cell_type": "code",
      "source": [
        "list_of_kingdom_names = [\"A\", \"B\", \"C\", \"D\", \"E\", \"F\", \"G\", \"H\", \"I\", \"J\", \"K\", \"L\"]\n",
        "starting_kingdom = \"A\"\n",
        "# sample adjacency matrix, TODO write a function that takes in num nodes to generate an adjacency matrix \n",
        "adjacency_matrix = [[1, 4, 3, -1, 2, 3, 5, 6, 8, 11, 2, 12], \n",
        "                    [4, 1, 5, 13, 3, 4, 6, 8, 9, 10, 3, 10], \n",
        "                    [3, 5, 1, 12, 1, 3, 4, 7, 6, 9, 18, 2], \n",
        "                    [-1, 13, 12, 1, 3, 4, 5, 7, 8, 9, 10, 11],\n",
        "                    [3, 4, 6, 7, -1, 2, 3, 5, 6, 7, 19, 17],\n",
        "                    [4, 5, 6, 1, 2, 4, 6, 8, 18, 1, 3, 4],\n",
        "                    [7, 2, 3, 5, 6, 7, -1, 9, 24, 3, 6, 7],\n",
        "                    [6, 2, 13, 5, 6, 1, 3, 5, 16, 8, 9, 19, 3],\n",
        "                    [1, 4, 3, -1, 2, 3, 5, 16, 8, 10, 10, 12], \n",
        "                    [4, 1, 15, 13, 3, 17, 6, 8, 19, 11, 3, 10], \n",
        "                    [3, 5, 10, 12, 1, 3, 4, 7, 6, 9, 18, 2], \n",
        "                    [-1, 13, 12, 4, 3, 4, 5, 7, 4, 19, 10, 11],\n",
        "                    [3, 4, 6, 7, -1, 3, 3, 15, 6, 7, 19, 17],\n",
        "                    [4, 5, 6, 11, 2, 14, 3, 8, 18, 1, 3, 4],\n",
        "                    [7, 2, 13, 5, 6, 7, -1, 9, 4, 5, 6, 7],\n",
        "                    [6, 2, 3, 5, 6, 1, 3, 5, 6, 8, 9, 9, 3]\n",
        "                    ]\n",
        "solve(list_of_kingdom_names, starting_kingdom, adjacency_matrix, params=[])"
      ],
      "execution_count": 0,
      "outputs": []
    },
    {
      "metadata": {
        "id": "CcMM08DA1WEm",
        "colab_type": "code",
        "colab": {
          "autoexec": {
            "startup": false,
            "wait_interval": 0
          }
        }
      },
      "cell_type": "code",
      "source": [
        ""
      ],
      "execution_count": 0,
      "outputs": []
    },
    {
      "metadata": {
        "id": "6TC7PBAHmczG",
        "colab_type": "code",
        "colab": {
          "autoexec": {
            "startup": false,
            "wait_interval": 0
          }
        }
      },
      "cell_type": "code",
      "source": [
        ""
      ],
      "execution_count": 0,
      "outputs": []
    }
  ]
}